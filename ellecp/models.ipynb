{
 "cells": [
  {
   "cell_type": "markdown",
   "metadata": {},
   "source": [
    "## Library Import"
   ]
  },
  {
   "cell_type": "code",
   "execution_count": 5,
   "metadata": {},
   "outputs": [],
   "source": [
    "import numpy as np\n",
    "import pandas as pd\n",
    "from PIL import Image\n",
    "import os\n",
    "import warnings\n",
    "import rasterio as rio\n",
    "\n",
    "%matplotlib inline\n",
    "\n",
    "from netCDF4 import Dataset\n",
    "from pyhdf.SD import SD, SDC\n",
    "from skimage.transform import resize\n"
   ]
  },
  {
   "cell_type": "code",
   "execution_count": 6,
   "metadata": {},
   "outputs": [],
   "source": [
    "from collections import Counter\n",
    "\n",
    "from sklearn.utils import shuffle\n",
    "from sklearn.pipeline import Pipeline\n",
    "from sklearn.metrics import  confusion_matrix\n",
    "from sklearn.ensemble import RandomForestClassifier\n",
    "from sklearn.ensemble import RandomForestRegressor\n",
    "from sklearn.ensemble import ExtraTreesClassifier\n",
    "from sklearn.model_selection import train_test_split\n",
    "from sklearn.model_selection import GridSearchCV\n",
    "from sklearn.metrics import cohen_kappa_score\n",
    "from sklearn.metrics import classification_report\n",
    "from sklearn.metrics import accuracy_score\n",
    "from imblearn.over_sampling import SMOTE\n",
    "from skimage.transform import resize\n",
    "from sklearn.metrics import mean_squared_error\n",
    "\n",
    "ncores = os.cpu_count()"
   ]
  },
  {
   "cell_type": "code",
   "execution_count": 7,
   "metadata": {},
   "outputs": [],
   "source": [
    "## Set bounds for later reading"
   ]
  },
  {
   "cell_type": "markdown",
   "metadata": {},
   "source": [
    "## Read Data"
   ]
  },
  {
   "cell_type": "code",
   "execution_count": 8,
   "metadata": {},
   "outputs": [],
   "source": [
    "## import LT\n",
    "lt_df = pd.read_csv('data/lt.csv')\n",
    "lt_col = lt_df.columns.tolist()[3:]\n",
    "\n",
    "train_df = pd.read_csv('data/1985.csv')\n",
    "train_years = ['1985', '1990', '1995', '2000', '2005']\n",
    "train_df[lt_col] = lt_df[lt_col]\n",
    "train_df['year'] = '1985'\n",
    "\n",
    "for i in train_years[1:]:\n",
    "    add_data = pd.read_csv('data/' + i + '.csv')\n",
    "    add_data[lt_col] = lt_df[lt_col]\n",
    "    add_data['year'] = i\n",
    "    train_df = pd.concat([train_df, add_data])\n",
    "train_df = train_df.drop(['Unnamed: 0'], axis = 1)"
   ]
  },
  {
   "cell_type": "code",
   "execution_count": 9,
   "metadata": {},
   "outputs": [],
   "source": [
    "features = train_df.columns.tolist()[3:-1]\n",
    "#for training"
   ]
  },
  {
   "cell_type": "code",
   "execution_count": 10,
   "metadata": {},
   "outputs": [],
   "source": [
    "def strat_label(pixel):\n",
    "    if pixel <2000 :\n",
    "        return 1\n",
    "    else:\n",
    "        return 2\n",
    "\n",
    "def binary_label(pixel):\n",
    "    if pixel <100 :\n",
    "        return  0\n",
    "    else:\n",
    "        return 1\n",
    "\n",
    "train_df['strat_label'] = train_df['label'].map(strat_label)\n",
    "train_df['binary_label'] = train_df['label'].map(binary_label)"
   ]
  },
  {
   "cell_type": "code",
   "execution_count": 11,
   "metadata": {},
   "outputs": [
    {
     "data": {
      "text/plain": [
       "1    3294291\n",
       "2     216399\n",
       "Name: strat_label, dtype: int64"
      ]
     },
     "execution_count": 11,
     "metadata": {},
     "output_type": "execute_result"
    }
   ],
   "source": [
    "train_df['strat_label'].value_counts()"
   ]
  },
  {
   "cell_type": "code",
   "execution_count": 12,
   "metadata": {},
   "outputs": [],
   "source": [
    "test, train = train_df[train_df['year'] == '2005'], train_df[train_df['year'] != '2005']\n",
    "test_labels, train_labels = test['binary_label'], train['binary_label']\n",
    "test_data, train_data = test[features], train[features]"
   ]
  },
  {
   "cell_type": "code",
   "execution_count": null,
   "metadata": {},
   "outputs": [],
   "source": [
    "test.shape"
   ]
  },
  {
   "cell_type": "code",
   "execution_count": null,
   "metadata": {},
   "outputs": [],
   "source": [
    "clf_unb = RandomForestClassifier(n_estimators=100 , min_samples_leaf=10, max_depth=50, n_jobs=ncores)\n",
    "%time clf_unb.fit(train_data, train_labels)"
   ]
  },
  {
   "cell_type": "code",
   "execution_count": 11,
   "metadata": {},
   "outputs": [
    {
     "name": "stdout",
     "output_type": "stream",
     "text": [
      "CPU times: user 18.7 s, sys: 47.9 ms, total: 18.7 s\n",
      "Wall time: 1.01 s\n",
      "acc 0.9180089953826741\n",
      "kappa 0.7937098151652608\n",
      "              precision    recall  f1-score   support\n",
      "\n",
      "           0       0.92      0.97      0.94    496335\n",
      "           1       0.92      0.79      0.85    205803\n",
      "\n",
      "    accuracy                           0.92    702138\n",
      "   macro avg       0.92      0.88      0.90    702138\n",
      "weighted avg       0.92      0.92      0.92    702138\n",
      "\n"
     ]
    }
   ],
   "source": [
    "%time predictions = clf_unb.predict(test_data)\n",
    "print(\"acc\",accuracy_score(test_labels, predictions))\n",
    "print(\"kappa\", cohen_kappa_score(test_labels, predictions))\n",
    "print(classification_report(test_labels, predictions))"
   ]
  },
  {
   "cell_type": "code",
   "execution_count": 13,
   "metadata": {},
   "outputs": [
    {
     "name": "stdout",
     "output_type": "stream",
     "text": [
      "CPU times: user 1h 10min 58s, sys: 19.5 s, total: 1h 11min 17s\n",
      "Wall time: 2min 17s\n"
     ]
    },
    {
     "data": {
      "text/plain": [
       "ExtraTreesClassifier(bootstrap=False, ccp_alpha=0.0, class_weight=None,\n",
       "                     criterion='gini', max_depth=None, max_features='auto',\n",
       "                     max_leaf_nodes=None, max_samples=None,\n",
       "                     min_impurity_decrease=0.0, min_impurity_split=None,\n",
       "                     min_samples_leaf=1, min_samples_split=2,\n",
       "                     min_weight_fraction_leaf=0.0, n_estimators=500, n_jobs=32,\n",
       "                     oob_score=False, random_state=None, verbose=0,\n",
       "                     warm_start=False)"
      ]
     },
     "execution_count": 13,
     "metadata": {},
     "output_type": "execute_result"
    }
   ],
   "source": [
    "train_irr = train[train['binary_label'] !=0]\n",
    "train_non = train[train['binary_label'] == 0]\n",
    "train_non = train_non.sample(frac=0.4, replace=False, random_state=1)\n",
    "train_1 = pd.concat([train_irr, train_non])\n",
    "\n",
    "test_labels, train_labels = test['binary_label'], train_1['binary_label']\n",
    "test_data, train_data = test[features], train_1[features]\n",
    "\n",
    "clf_bin = ExtraTreesClassifier(n_estimators=500, n_jobs=ncores)\n",
    "\n",
    "# Train the Classifier to take the training features and learn how they relate\n",
    "# to the training y (the species)\n",
    "%time clf_bin.fit(train_data, train_labels)"
   ]
  },
  {
   "cell_type": "code",
   "execution_count": 14,
   "metadata": {},
   "outputs": [
    {
     "name": "stdout",
     "output_type": "stream",
     "text": [
      "CPU times: user 2min 5s, sys: 304 ms, total: 2min 5s\n",
      "Wall time: 4.54 s\n",
      "acc 0.9186584403635752\n",
      "kappa 0.8058811142714415\n",
      "              precision    recall  f1-score   support\n",
      "\n",
      "           0       0.95      0.93      0.94    496335\n",
      "           1       0.85      0.88      0.86    205803\n",
      "\n",
      "    accuracy                           0.92    702138\n",
      "   macro avg       0.90      0.91      0.90    702138\n",
      "weighted avg       0.92      0.92      0.92    702138\n",
      "\n"
     ]
    },
    {
     "name": "stderr",
     "output_type": "stream",
     "text": [
      "/home/ubuntu/anaconda3/envs/w210-dlvm/lib/python3.7/site-packages/ipykernel_launcher.py:5: SettingWithCopyWarning: \n",
      "A value is trying to be set on a copy of a slice from a DataFrame.\n",
      "Try using .loc[row_indexer,col_indexer] = value instead\n",
      "\n",
      "See the caveats in the documentation: https://pandas.pydata.org/pandas-docs/stable/user_guide/indexing.html#returning-a-view-versus-a-copy\n",
      "  \"\"\"\n"
     ]
    }
   ],
   "source": [
    "%time predictions = clf_bin.predict(test_data)\n",
    "print(\"acc\",accuracy_score(test_labels, predictions))\n",
    "print(\"kappa\", cohen_kappa_score(test_labels, predictions))\n",
    "print(classification_report(test_labels, predictions))\n",
    "test['predictions'] = predictions"
   ]
  },
  {
   "cell_type": "code",
   "execution_count": 15,
   "metadata": {},
   "outputs": [
    {
     "data": {
      "text/html": [
       "<div>\n",
       "<style scoped>\n",
       "    .dataframe tbody tr th:only-of-type {\n",
       "        vertical-align: middle;\n",
       "    }\n",
       "\n",
       "    .dataframe tbody tr th {\n",
       "        vertical-align: top;\n",
       "    }\n",
       "\n",
       "    .dataframe thead th {\n",
       "        text-align: right;\n",
       "    }\n",
       "</style>\n",
       "<table border=\"1\" class=\"dataframe\">\n",
       "  <thead>\n",
       "    <tr style=\"text-align: right;\">\n",
       "      <th></th>\n",
       "      <th>feature</th>\n",
       "      <th>importances</th>\n",
       "    </tr>\n",
       "  </thead>\n",
       "  <tbody>\n",
       "    <tr>\n",
       "      <th>82</th>\n",
       "      <td>vap_lt_var</td>\n",
       "      <td>0.038785</td>\n",
       "    </tr>\n",
       "    <tr>\n",
       "      <th>74</th>\n",
       "      <td>tmax_lt_var</td>\n",
       "      <td>0.028951</td>\n",
       "    </tr>\n",
       "    <tr>\n",
       "      <th>66</th>\n",
       "      <td>srad_lt_var</td>\n",
       "      <td>0.024255</td>\n",
       "    </tr>\n",
       "    <tr>\n",
       "      <th>34</th>\n",
       "      <td>tmin_var</td>\n",
       "      <td>0.019053</td>\n",
       "    </tr>\n",
       "    <tr>\n",
       "      <th>58</th>\n",
       "      <td>pet_lt_var</td>\n",
       "      <td>0.018980</td>\n",
       "    </tr>\n",
       "    <tr>\n",
       "      <th>38</th>\n",
       "      <td>vap_var</td>\n",
       "      <td>0.018782</td>\n",
       "    </tr>\n",
       "    <tr>\n",
       "      <th>78</th>\n",
       "      <td>tmin_lt_var</td>\n",
       "      <td>0.017313</td>\n",
       "    </tr>\n",
       "    <tr>\n",
       "      <th>54</th>\n",
       "      <td>def_lt_var</td>\n",
       "      <td>0.017019</td>\n",
       "    </tr>\n",
       "    <tr>\n",
       "      <th>72</th>\n",
       "      <td>tmax_lt_max</td>\n",
       "      <td>0.016974</td>\n",
       "    </tr>\n",
       "    <tr>\n",
       "      <th>79</th>\n",
       "      <td>tmin_lt_mean</td>\n",
       "      <td>0.016642</td>\n",
       "    </tr>\n",
       "    <tr>\n",
       "      <th>30</th>\n",
       "      <td>tmax_var</td>\n",
       "      <td>0.016610</td>\n",
       "    </tr>\n",
       "    <tr>\n",
       "      <th>86</th>\n",
       "      <td>vpd_lt_var</td>\n",
       "      <td>0.016338</td>\n",
       "    </tr>\n",
       "    <tr>\n",
       "      <th>64</th>\n",
       "      <td>srad_lt_max</td>\n",
       "      <td>0.016124</td>\n",
       "    </tr>\n",
       "    <tr>\n",
       "      <th>0</th>\n",
       "      <td>ndvi_max_y1</td>\n",
       "      <td>0.015485</td>\n",
       "    </tr>\n",
       "    <tr>\n",
       "      <th>75</th>\n",
       "      <td>tmax_lt_mean</td>\n",
       "      <td>0.015069</td>\n",
       "    </tr>\n",
       "    <tr>\n",
       "      <th>26</th>\n",
       "      <td>srad_var</td>\n",
       "      <td>0.014961</td>\n",
       "    </tr>\n",
       "    <tr>\n",
       "      <th>2</th>\n",
       "      <td>ndvi_mean_y1</td>\n",
       "      <td>0.014908</td>\n",
       "    </tr>\n",
       "    <tr>\n",
       "      <th>50</th>\n",
       "      <td>aet_lt_var</td>\n",
       "      <td>0.014845</td>\n",
       "    </tr>\n",
       "    <tr>\n",
       "      <th>71</th>\n",
       "      <td>srad_lt_mean</td>\n",
       "      <td>0.014705</td>\n",
       "    </tr>\n",
       "    <tr>\n",
       "      <th>65</th>\n",
       "      <td>srad_lt_min</td>\n",
       "      <td>0.014669</td>\n",
       "    </tr>\n",
       "  </tbody>\n",
       "</table>\n",
       "</div>"
      ],
      "text/plain": [
       "         feature  importances\n",
       "82    vap_lt_var     0.038785\n",
       "74   tmax_lt_var     0.028951\n",
       "66   srad_lt_var     0.024255\n",
       "34      tmin_var     0.019053\n",
       "58    pet_lt_var     0.018980\n",
       "38       vap_var     0.018782\n",
       "78   tmin_lt_var     0.017313\n",
       "54    def_lt_var     0.017019\n",
       "72   tmax_lt_max     0.016974\n",
       "79  tmin_lt_mean     0.016642\n",
       "30      tmax_var     0.016610\n",
       "86    vpd_lt_var     0.016338\n",
       "64   srad_lt_max     0.016124\n",
       "0    ndvi_max_y1     0.015485\n",
       "75  tmax_lt_mean     0.015069\n",
       "26      srad_var     0.014961\n",
       "2   ndvi_mean_y1     0.014908\n",
       "50    aet_lt_var     0.014845\n",
       "71  srad_lt_mean     0.014705\n",
       "65   srad_lt_min     0.014669"
      ]
     },
     "execution_count": 15,
     "metadata": {},
     "output_type": "execute_result"
    }
   ],
   "source": [
    "df_import = pd.DataFrame()\n",
    "df_import['feature'] = features\n",
    "df_import['importances'] = clf_bin.feature_importances_\n",
    "df_import=df_import.sort_values('importances', ascending=False)\n",
    "df_import.head(n = 20)"
   ]
  },
  {
   "cell_type": "code",
   "execution_count": 16,
   "metadata": {},
   "outputs": [
    {
     "data": {
      "text/plain": [
       "213672"
      ]
     },
     "execution_count": 16,
     "metadata": {},
     "output_type": "execute_result"
    }
   ],
   "source": [
    "predictions.sum()"
   ]
  },
  {
   "cell_type": "code",
   "execution_count": 17,
   "metadata": {},
   "outputs": [
    {
     "data": {
      "text/plain": [
       "205803"
      ]
     },
     "execution_count": 17,
     "metadata": {},
     "output_type": "execute_result"
    }
   ],
   "source": [
    "test_labels.sum()"
   ]
  },
  {
   "cell_type": "code",
   "execution_count": 18,
   "metadata": {},
   "outputs": [
    {
     "name": "stdout",
     "output_type": "stream",
     "text": [
      "(702138, 2)\n"
     ]
    }
   ],
   "source": [
    "prob_predictions = clf_bin.predict_proba(test_data)\n",
    "\n",
    "print(prob_predictions.shape)\n",
    "\n",
    "test_results = pd.DataFrame()\n",
    "actual_05 = pd.DataFrame()\n",
    "\n",
    "test_results['lon'], test_results['lat'] = train_df[train_df['year'] == '2005']['lon'], train_df[train_df['year'] == '2005']['lat']\n",
    "test_results['prob'], test_results['predict'] = prob_predictions[:,1], predictions\n",
    "\n",
    "\n",
    "actual_05['lon'], actual_05['lat'], actual_05['label'] = train_df[train_df['year'] == '2005']['lon'], train_df[train_df['year'] == '2005']['lat'], test['binary_label']\n",
    "\n",
    "labels_05, predict_05, prob_05 = np.zeros((2160, 4320)), np.zeros((2160, 4320)), np.zeros((2160, 4320))\n",
    "\n"
   ]
  },
  {
   "cell_type": "code",
   "execution_count": 19,
   "metadata": {},
   "outputs": [],
   "source": [
    "t = test_results.values.tolist()\n",
    "s = actual_05.values.tolist()\n",
    "\n",
    "for i in t: \n",
    "    predict_05[int(i[0]),int(i[1])] = i[3]\n",
    "    prob_05[int(i[0]),int(i[1])] = i[2]\n",
    "for i in s:\n",
    "    labels_05[int(i[0]),int(i[1])] = i[2]\n",
    "    \n",
    "with rio.open('2001_prob_crs.tif') as src:\n",
    "    ras_data = src.read()\n",
    "    ras_meta = src.profile\n",
    "\n",
    "\n",
    "# make any necessary changes to raster properties, e.g.:\n",
    "ras_meta['nodata'] = -99\n",
    "\n",
    "with rio.open('output/' + '2005'+ '_binary.tif', 'w', **ras_meta) as dst:\n",
    "    dst.write(predict_05, 1)\n",
    "\n",
    "with rio.open('output/' + '2005'+ '_prob.tif', 'w', **ras_meta) as dst:\n",
    "    dst.write(prob_05, 1)\n",
    "   "
   ]
  },
  {
   "cell_type": "code",
   "execution_count": 25,
   "metadata": {},
   "outputs": [
    {
     "data": {
      "image/png": "[encoded data removed]",
      "text/plain": [
       "<Figure size 432x288 with 1 Axes>"
      ]
     },
     "metadata": {
      "needs_background": "light"
     },
     "output_type": "display_data"
    }
   ],
   "source": [
    "from matplotlib import pyplot as plt\n",
    "%matplotlib inline \n",
    "\n",
    "plt.imshow(labels_05, interpolation='nearest')\n",
    "plt.show()"
   ]
  },
  {
   "cell_type": "code",
   "execution_count": 26,
   "metadata": {},
   "outputs": [
    {
     "data": {
      "image/png": "[encoded data removed]",
      "text/plain": [
       "<Figure size 432x288 with 1 Axes>"
      ]
     },
     "metadata": {
      "needs_background": "light"
     },
     "output_type": "display_data"
    }
   ],
   "source": [
    "from matplotlib import pyplot as plt\n",
    "%matplotlib inline \n",
    "\n",
    "plt.imshow(prob_05, interpolation='nearest')\n",
    "plt.show()"
   ]
  },
  {
   "cell_type": "code",
   "execution_count": 27,
   "metadata": {},
   "outputs": [
    {
     "data": {
      "image/png": "[encoded data removed]",
      "text/plain": [
       "<Figure size 432x288 with 1 Axes>"
      ]
     },
     "metadata": {
      "needs_background": "light"
     },
     "output_type": "display_data"
    }
   ],
   "source": [
    "from matplotlib import pyplot as plt\n",
    "%matplotlib inline \n",
    "\n",
    "plt.imshow(predict_05, interpolation='nearest')\n",
    "plt.show()"
   ]
  },
  {
   "cell_type": "code",
   "execution_count": 28,
   "metadata": {},
   "outputs": [
    {
     "data": {
      "text/plain": [
       "<matplotlib.image.AxesImage at 0x7fb105362b50>"
      ]
     },
     "execution_count": 28,
     "metadata": {},
     "output_type": "execute_result"
    },
    {
     "data": {
      "image/png": "[encoded data removed]",
      "text/plain": [
       "<Figure size 432x288 with 1 Axes>"
      ]
     },
     "metadata": {
      "needs_background": "light"
     },
     "output_type": "display_data"
    }
   ],
   "source": [
    "plt.imshow(labels_05, interpolation='nearest')"
   ]
  },
  {
   "cell_type": "code",
   "execution_count": 29,
   "metadata": {},
   "outputs": [
    {
     "data": {
      "image/png": "[encoded data removed]",
      "text/plain": [
       "<Figure size 432x288 with 1 Axes>"
      ]
     },
     "metadata": {
      "needs_background": "light"
     },
     "output_type": "display_data"
    }
   ],
   "source": [
    "plt.imshow(predict_05 - labels_05, interpolation='nearest')\n",
    "plt.show()"
   ]
  },
  {
   "cell_type": "code",
   "execution_count": 20,
   "metadata": {},
   "outputs": [],
   "source": [
    "test_2, train_2 = test[test['predictions'] == 1], train[train['label'] > 100]\n",
    "train_low = train_2[train_2['strat_label'] ==1]\n",
    "train_high = train_2[train_2['strat_label'] == 2]\n",
    "train_low = train_low.sample(frac=0.4, replace=False, random_state=1)\n",
    "train_3 = pd.concat([train_low, train_high])\n",
    "\n",
    "\n",
    "\n",
    "test_labels, train_labels = test_2['strat_label'], train_3['strat_label']\n",
    "test_data, train_data = test_2[features], train_3[features]"
   ]
  },
  {
   "cell_type": "code",
   "execution_count": 21,
   "metadata": {},
   "outputs": [
    {
     "name": "stdout",
     "output_type": "stream",
     "text": [
      "CPU times: user 14min 45s, sys: 2.79 s, total: 14min 48s\n",
      "Wall time: 28.9 s\n"
     ]
    },
    {
     "data": {
      "text/plain": [
       "ExtraTreesClassifier(bootstrap=False, ccp_alpha=0.0, class_weight=None,\n",
       "                     criterion='gini', max_depth=None, max_features='auto',\n",
       "                     max_leaf_nodes=None, max_samples=None,\n",
       "                     min_impurity_decrease=0.0, min_impurity_split=None,\n",
       "                     min_samples_leaf=1, min_samples_split=2,\n",
       "                     min_weight_fraction_leaf=0.0, n_estimators=500, n_jobs=32,\n",
       "                     oob_score=False, random_state=None, verbose=0,\n",
       "                     warm_start=False)"
      ]
     },
     "execution_count": 21,
     "metadata": {},
     "output_type": "execute_result"
    }
   ],
   "source": [
    "clf_tri = ExtraTreesClassifier(n_estimators=500 , n_jobs=ncores)\n",
    "%time clf_tri.fit(train_data, train_labels)"
   ]
  },
  {
   "cell_type": "code",
   "execution_count": 22,
   "metadata": {},
   "outputs": [
    {
     "name": "stdout",
     "output_type": "stream",
     "text": [
      "CPU times: user 29.9 s, sys: 118 ms, total: 30.1 s\n",
      "Wall time: 1.21 s\n",
      "acc 0.9162080197686173\n",
      "kappa 0.7582443491753876\n",
      "              precision    recall  f1-score   support\n",
      "\n",
      "           1       0.95      0.94      0.95    166284\n",
      "           2       0.81      0.82      0.81     47388\n",
      "\n",
      "    accuracy                           0.92    213672\n",
      "   macro avg       0.88      0.88      0.88    213672\n",
      "weighted avg       0.92      0.92      0.92    213672\n",
      "\n"
     ]
    }
   ],
   "source": [
    "%time predictions = clf_tri.predict(test_data)\n",
    "print(\"acc\",accuracy_score(test_labels, predictions))\n",
    "print(\"kappa\", cohen_kappa_score(test_labels, predictions))\n",
    "print(classification_report(test_labels, predictions))"
   ]
  },
  {
   "cell_type": "code",
   "execution_count": 23,
   "metadata": {},
   "outputs": [],
   "source": [
    "test_results = pd.DataFrame()\n",
    "actual_05 = pd.DataFrame()\n",
    "\n",
    "test_results['lon'], test_results['lat'] = test_2['lon'], test_2['lat']\n",
    "test_results['predict'] = predictions\n",
    "\n",
    "predict_05 = np.zeros((2160, 4320))"
   ]
  },
  {
   "cell_type": "code",
   "execution_count": 24,
   "metadata": {},
   "outputs": [],
   "source": [
    "t = test_results.values.tolist()\n",
    "\n",
    "for i in t: \n",
    "    predict_05[int(i[0]),int(i[1])] = i[2]\n",
    "\n",
    "    \n",
    "    \n",
    "with rio.open('2001_prob_crs.tif') as src:\n",
    "    ras_data = src.read()\n",
    "    ras_meta = src.profile\n",
    "\n",
    "\n",
    "# make any necessary changes to raster properties, e.g.:\n",
    "ras_meta['nodata'] = -99\n",
    "\n",
    "with rio.open('output/' + '2005'+ '_trinary.tif', 'w', **ras_meta) as dst:\n",
    "    dst.write(predict_05, 1)"
   ]
  },
  {
   "cell_type": "code",
   "execution_count": 27,
   "metadata": {},
   "outputs": [],
   "source": [
    "tifs = [ '2001', '2002', '2003', '2004', '2006','2007', '2008', '2009', '2010', '2011', '2012', '2013', '2014', '2015']\n",
    "result_df = pd.DataFrame()\n",
    "result_df['lon'], result_df['lat'] = train_df[train_df['year'] == '2005']['lon'], train_df[train_df['year'] == '2005']['lat']\n",
    "\n",
    "def generate_year_tifs(year):\n",
    "    new_df = pd.read_csv('data/' + year + '.csv')\n",
    "    new_df[lt_col] = lt_df[lt_col]\n",
    "    new_df['year'] = year\n",
    "    new_df = new_df.drop(['Unnamed: 0'], axis = 1)\n",
    "    year_data = new_df[features]\n",
    "    prob_predictions, predictions = clf_bin.predict_proba(year_data), clf_bin.predict(year_data)\n",
    "    \n",
    "    \n",
    "    new_df['bin_predictions'] = predictions\n",
    "    new_df_filt = new_df[new_df['bin_predictions'] == 1]\n",
    "    year_data_filt = new_df_filt[features]\n",
    "    \n",
    "    prediction_trinary = clf_tri.predict(year_data_filt)\n",
    "    \n",
    "    result_df[year + 'bin'] = predictions\n",
    "    result_df[year + 'prob'] = prob_predictions[:,1]\n",
    "\n",
    "    \n",
    "    image_df = pd.DataFrame()\n",
    "\n",
    "    image_df['lon'], image_df['lat'] = train_df[train_df['year'] == '2005']['lon'], train_df[train_df['year'] == '2005']['lat']\n",
    "    image_df['prob'], image_df['predict'] = prob_predictions[:,1], predictions\n",
    "    \n",
    "    image_df_filt = image_df[image_df['predict'] == 1][['lon', 'lat']]\n",
    "    image_df_filt['tri_predict'] = prediction_trinary\n",
    "    predict, probs, trin_pred = np.zeros((2160, 4320), dtype=\"float64\"), np.zeros((2160, 4320), dtype=\"float64\"), np.zeros((2160, 4320), dtype=\"float64\")\n",
    "\n",
    "    t = image_df.values.tolist()\n",
    "    s = image_df_filt.values.tolist()\n",
    "\n",
    "\n",
    "    for i in t:\n",
    "        predict[int(i[0]),int(i[1])] = int(i[3])\n",
    "        probs[int(i[0]),int(i[1])] = int(i[2]*100)\n",
    "\n",
    "    for i in s:\n",
    "        trin_pred[int(i[0]),int(i[1])] = int(i[2])\n",
    "        \n",
    "\n",
    "    import rasterio as rio    \n",
    "\n",
    "    with rio.open('2001_prob_crs.tif') as src:\n",
    "        ras_data = src.read()\n",
    "        ras_meta = src.profile\n",
    "\n",
    "\n",
    "    # make any necessary changes to raster properties, e.g.:\n",
    "    ras_meta['nodata'] = -99\n",
    "\n",
    "    with rio.open('output/' + year + '_binary.tif', 'w', **ras_meta) as dst:\n",
    "        dst.write(predict, 1)\n",
    "\n",
    "    with rio.open('output/' + year + '_prob.tif', 'w', **ras_meta) as dst:\n",
    "        dst.write(probs, 1)\n",
    "    \n",
    "    with rio.open('output/'+ year + '_trinary.tif', 'w', **ras_meta) as dst:\n",
    "        dst.write(trin_pred, 1)\n",
    "        \n",
    "    return predict, probs, trin_pred\n",
    "\n",
    "predicts_np = np.zeros((14,2160, 4320))\n",
    "probs_np = np.zeros((14,2160, 4320))\n",
    "pred_trin = np.zeros((14,2160, 4320))\n",
    "\n",
    "\n",
    "for i in range(len(tifs)):\n",
    "    year_p = tifs[i]\n",
    "    predicts_np[i,:,:], probs_np[i,:,:], pred_trin[i,:,:]  = generate_year_tifs(year_p)"
   ]
  },
  {
   "cell_type": "code",
   "execution_count": null,
   "metadata": {},
   "outputs": [],
   "source": [
    "print(predicts_np[1,:,:].sum())\n",
    "print(predicts_np[3,:,:].sum())\n",
    "print(predicts_np[5,:,:].sum())\n",
    "print(predicts_np[9,:,:].sum())\n",
    "print(predicts_np[12,:,:].sum())\n",
    "print(predicts_np[13,:,:].sum())"
   ]
  },
  {
   "cell_type": "code",
   "execution_count": 28,
   "metadata": {},
   "outputs": [
    {
     "name": "stdout",
     "output_type": "stream",
     "text": [
      "258491.0\n",
      "260921.0\n",
      "258466.0\n",
      "260630.0\n",
      "260836.0\n",
      "259000.0\n"
     ]
    }
   ],
   "source": [
    "print(pred_trin[1,:,:].sum())\n",
    "print(pred_trin[3,:,:].sum())\n",
    "print(pred_trin[5,:,:].sum())\n",
    "print(pred_trin[9,:,:].sum())\n",
    "print(pred_trin[12,:,:].sum())\n",
    "print(pred_trin[13,:,:].sum())"
   ]
  },
  {
   "cell_type": "code",
   "execution_count": 23,
   "metadata": {},
   "outputs": [
    {
     "data": {
      "image/png": "[encoded data removed]",
      "text/plain": [
       "<Figure size 432x288 with 1 Axes>"
      ]
     },
     "metadata": {
      "needs_background": "light"
     },
     "output_type": "display_data"
    }
   ],
   "source": [
    "from matplotlib import pyplot as plt\n",
    "%matplotlib inline \n",
    "\n",
    "plt.imshow(map_15, interpolation='nearest')\n",
    "plt.show()"
   ]
  },
  {
   "cell_type": "code",
   "execution_count": 24,
   "metadata": {},
   "outputs": [
    {
     "data": {
      "image/png": "[encoded data removed]",
      "text/plain": [
       "<Figure size 432x288 with 1 Axes>"
      ]
     },
     "metadata": {
      "needs_background": "light"
     },
     "output_type": "display_data"
    }
   ],
   "source": [
    "from matplotlib import pyplot as plt\n",
    "%matplotlib inline \n",
    "\n",
    "plt.imshow(map_10, interpolation='nearest')\n",
    "plt.show()"
   ]
  },
  {
   "cell_type": "code",
   "execution_count": 114,
   "metadata": {},
   "outputs": [
    {
     "data": {
      "image/png": "[encoded data removed]",
      "text/plain": [
       "<Figure size 432x288 with 1 Axes>"
      ]
     },
     "metadata": {
      "needs_background": "light"
     },
     "output_type": "display_data"
    }
   ],
   "source": [
    "combined_df_05 = combined_df[combined_df['year']==2005][['lon','lat','irrigated']]\n",
    "current_05 = combined_df_05.values\n",
    "map_05 = np.zeros((2160, 4320))\n",
    "\n",
    "t = current_05.tolist()\n",
    "\n",
    "for i in t: \n",
    "    map_05[i[0],i[1]] = i[2]\n",
    "\n",
    "plt.imshow(map_05, interpolation='nearest')\n",
    "plt.show()"
   ]
  },
  {
   "cell_type": "code",
   "execution_count": 117,
   "metadata": {
    "scrolled": true
   },
   "outputs": [
    {
     "data": {
      "image/png": "[encoded data removed]",
      "text/plain": [
       "<Figure size 432x288 with 1 Axes>"
      ]
     },
     "metadata": {
      "needs_background": "light"
     },
     "output_type": "display_data"
    }
   ],
   "source": [
    "dif = map_15 - map_05p\n",
    "plt.imshow(dif, interpolation='nearest')\n",
    "plt.show()"
   ]
  },
  {
   "cell_type": "code",
   "execution_count": null,
   "metadata": {},
   "outputs": [],
   "source": []
  },
  {
   "cell_type": "code",
   "execution_count": 10,
   "metadata": {},
   "outputs": [
    {
     "name": "stdout",
     "output_type": "stream",
     "text": [
      "CPU times: user 45min 48s, sys: 11.3 s, total: 45min 59s\n",
      "Wall time: 1min 31s\n"
     ]
    },
    {
     "data": {
      "text/plain": [
       "ExtraTreesClassifier(bootstrap=False, ccp_alpha=0.0, class_weight=None,\n",
       "                     criterion='gini', max_depth=None, max_features='auto',\n",
       "                     max_leaf_nodes=None, max_samples=None,\n",
       "                     min_impurity_decrease=0.0, min_impurity_split=None,\n",
       "                     min_samples_leaf=3, min_samples_split=2,\n",
       "                     min_weight_fraction_leaf=0.0, n_estimators=500, n_jobs=32,\n",
       "                     oob_score=False, random_state=None, verbose=0,\n",
       "                     warm_start=False)"
      ]
     },
     "execution_count": 10,
     "metadata": {},
     "output_type": "execute_result"
    }
   ],
   "source": [
    "train_low = train[train['strat_label'] ==1]\n",
    "train_none = train[train['strat_label'] ==0]\n",
    "train_high = train[train['strat_label'] == 3]\n",
    "train_none = train_none.sample(frac=0.25, replace=False, random_state=1)\n",
    "train_low = train_low.sample(frac=0.4, replace=False, random_state=1)\n",
    "train_1 = pd.concat([train_none, train_low, train_high])\n",
    "\n",
    "test_labels, train_labels = test['strat_label'], train_1['strat_label']\n",
    "test_data, train_data = test[features], train_1[features]\n",
    "\n",
    "clf_bal = ExtraTreesClassifier(n_estimators=500, n_jobs=ncores, min_samples_leaf=3)\n",
    "\n",
    "# Train the Classifier to take the training features and learn how they relate\n",
    "# to the training y (the species)\n",
    "%time clf_bal.fit(train_data, train_labels)"
   ]
  },
  {
   "cell_type": "code",
   "execution_count": 11,
   "metadata": {},
   "outputs": [
    {
     "name": "stdout",
     "output_type": "stream",
     "text": [
      "CPU times: user 2min 5s, sys: 960 ms, total: 2min 6s\n",
      "Wall time: 4.66 s\n",
      "acc 0.8062190053807087\n",
      "kappa 0.6339252735362905\n",
      "              precision    recall  f1-score   support\n",
      "\n",
      "           0       0.87      0.85      0.86    421325\n",
      "           1       0.71      0.73      0.72    233085\n",
      "           3       0.77      0.80      0.78     47728\n",
      "\n",
      "    accuracy                           0.81    702138\n",
      "   macro avg       0.78      0.79      0.79    702138\n",
      "weighted avg       0.81      0.81      0.81    702138\n",
      "\n"
     ]
    }
   ],
   "source": [
    "%time predictions = clf_bal.predict(test_data)\n",
    "print(\"acc\",accuracy_score(test_labels, predictions))\n",
    "print(\"kappa\", cohen_kappa_score(test_labels, predictions))\n",
    "print(classification_report(test_labels, predictions))"
   ]
  },
  {
   "cell_type": "code",
   "execution_count": 48,
   "metadata": {
    "scrolled": true
   },
   "outputs": [
    {
     "data": {
      "text/plain": [
       "array([[ 38027,   8740,    961],\n",
       "       [  9295, 170559,  53231],\n",
       "       [  2055,  62275, 356995]])"
      ]
     },
     "execution_count": 48,
     "metadata": {},
     "output_type": "execute_result"
    }
   ],
   "source": [
    "from sklearn.metrics import confusion_matrix\n",
    "confusion_matrix(test_labels, predictions)"
   ]
  },
  {
   "cell_type": "code",
   "execution_count": 9,
   "metadata": {},
   "outputs": [
    {
     "ename": "NameError",
     "evalue": "name 'clf_bal' is not defined",
     "output_type": "error",
     "traceback": [
      "\u001b[0;31m---------------------------------------------------------------------------\u001b[0m",
      "\u001b[0;31mNameError\u001b[0m                                 Traceback (most recent call last)",
      "\u001b[0;32m<ipython-input-9-92c719f8687f>\u001b[0m in \u001b[0;36m<module>\u001b[0;34m\u001b[0m\n\u001b[1;32m     43\u001b[0m \u001b[0;32mfor\u001b[0m \u001b[0mi\u001b[0m \u001b[0;32min\u001b[0m \u001b[0mrange\u001b[0m\u001b[0;34m(\u001b[0m\u001b[0mlen\u001b[0m\u001b[0;34m(\u001b[0m\u001b[0mtifs\u001b[0m\u001b[0;34m)\u001b[0m\u001b[0;34m)\u001b[0m\u001b[0;34m:\u001b[0m\u001b[0;34m\u001b[0m\u001b[0;34m\u001b[0m\u001b[0m\n\u001b[1;32m     44\u001b[0m     \u001b[0myear_p\u001b[0m \u001b[0;34m=\u001b[0m \u001b[0mtifs\u001b[0m\u001b[0;34m[\u001b[0m\u001b[0mi\u001b[0m\u001b[0;34m]\u001b[0m\u001b[0;34m\u001b[0m\u001b[0;34m\u001b[0m\u001b[0m\n\u001b[0;32m---> 45\u001b[0;31m     \u001b[0mpredicts_np\u001b[0m\u001b[0;34m[\u001b[0m\u001b[0mi\u001b[0m\u001b[0;34m,\u001b[0m\u001b[0;34m:\u001b[0m\u001b[0;34m,\u001b[0m\u001b[0;34m:\u001b[0m\u001b[0;34m]\u001b[0m \u001b[0;34m=\u001b[0m \u001b[0mgenerate_trinary_tifs\u001b[0m\u001b[0;34m(\u001b[0m\u001b[0myear_p\u001b[0m\u001b[0;34m)\u001b[0m\u001b[0;34m\u001b[0m\u001b[0;34m\u001b[0m\u001b[0m\n\u001b[0m",
      "\u001b[0;32m<ipython-input-9-92c719f8687f>\u001b[0m in \u001b[0;36mgenerate_trinary_tifs\u001b[0;34m(year)\u001b[0m\n\u001b[1;32m      7\u001b[0m     \u001b[0mnew_df\u001b[0m \u001b[0;34m=\u001b[0m \u001b[0mnew_df\u001b[0m\u001b[0;34m.\u001b[0m\u001b[0mdrop\u001b[0m\u001b[0;34m(\u001b[0m\u001b[0;34m[\u001b[0m\u001b[0;34m'Unnamed: 0'\u001b[0m\u001b[0;34m]\u001b[0m\u001b[0;34m,\u001b[0m \u001b[0maxis\u001b[0m \u001b[0;34m=\u001b[0m \u001b[0;36m1\u001b[0m\u001b[0;34m)\u001b[0m\u001b[0;34m\u001b[0m\u001b[0;34m\u001b[0m\u001b[0m\n\u001b[1;32m      8\u001b[0m     \u001b[0myear_data\u001b[0m \u001b[0;34m=\u001b[0m \u001b[0mnew_df\u001b[0m\u001b[0;34m[\u001b[0m\u001b[0mfeatures\u001b[0m\u001b[0;34m]\u001b[0m\u001b[0;34m\u001b[0m\u001b[0;34m\u001b[0m\u001b[0m\n\u001b[0;32m----> 9\u001b[0;31m     \u001b[0mpredictions\u001b[0m \u001b[0;34m=\u001b[0m \u001b[0mclf_bal\u001b[0m\u001b[0;34m.\u001b[0m\u001b[0mpredict\u001b[0m\u001b[0;34m(\u001b[0m\u001b[0myear_data\u001b[0m\u001b[0;34m)\u001b[0m\u001b[0;34m\u001b[0m\u001b[0;34m\u001b[0m\u001b[0m\n\u001b[0m\u001b[1;32m     10\u001b[0m \u001b[0;34m\u001b[0m\u001b[0m\n\u001b[1;32m     11\u001b[0m     \u001b[0mimage_df\u001b[0m \u001b[0;34m=\u001b[0m \u001b[0mpd\u001b[0m\u001b[0;34m.\u001b[0m\u001b[0mDataFrame\u001b[0m\u001b[0;34m(\u001b[0m\u001b[0;34m)\u001b[0m\u001b[0;34m\u001b[0m\u001b[0;34m\u001b[0m\u001b[0m\n",
      "\u001b[0;31mNameError\u001b[0m: name 'clf_bal' is not defined"
     ]
    }
   ],
   "source": [
    "## import LT\n",
    "tifs = [ '2001', '2002', '2003', '2004', '2005','2006','2007', '2008', '2009', '2010', '2011', '2012', '2013', '2014', '2015']\n",
    "def generate_trinary_tifs(year):\n",
    "    new_df = pd.read_csv('data/' + year + '.csv')\n",
    "    new_df[lt_col] = lt_df[lt_col]\n",
    "    new_df['year'] = year\n",
    "    new_df = new_df.drop(['Unnamed: 0'], axis = 1)\n",
    "    year_data = new_df[features]\n",
    "    predictions = clf_bal.predict(year_data)\n",
    "\n",
    "    image_df = pd.DataFrame()\n",
    "\n",
    "    image_df['lon'], image_df['lat'] = train_df[train_df['year'] == '2005']['lon'], train_df[train_df['year'] == '2005']['lat']\n",
    "    image_df['predict'] =  predictions\n",
    "\n",
    "\n",
    "    predict = np.zeros((2160, 4320), dtype=\"float64\")\n",
    "\n",
    "    t = image_df.values.tolist()\n",
    "\n",
    "\n",
    "    for i in t: \n",
    "        predict[int(i[0]),int(i[1])] = int(i[2])\n",
    "\n",
    "\n",
    "    import rasterio as rio    \n",
    "\n",
    "    with rio.open('2001_prob_crs.tif') as src:\n",
    "        ras_data = src.read()\n",
    "        ras_meta = src.profile\n",
    "\n",
    "\n",
    "    # make any necessary changes to raster properties, e.g.:\n",
    "    ras_meta['nodata'] = -99\n",
    "\n",
    "    with rio.open('output/' + year + '_trinary.tif', 'w', **ras_meta) as dst:\n",
    "        dst.write(predict, 1)\n",
    "    \n",
    "    return predict\n",
    "\n",
    "predicts_np = np.zeros((15,2160, 4320))\n",
    "\n",
    "for i in range(len(tifs)):\n",
    "    year_p = tifs[i]\n",
    "    predicts_np[i,:,:] = generate_trinary_tifs(year_p)"
   ]
  },
  {
   "cell_type": "code",
   "execution_count": 12,
   "metadata": {},
   "outputs": [],
   "source": [
    "full_set = train_df[train_df['year'] == '2005'][features]\n",
    "predictions = clf_bal.predict(full_set)\n",
    "test_results = pd.DataFrame()\n",
    "actual_05 = pd.DataFrame()\n",
    "\n",
    "test_results['lon'], test_results['lat'] = train_df[train_df['year'] == '2005']['lon'], train_df[train_df['year'] == '2005']['lat']\n",
    "test_results['predict'] = predictions\n",
    "\n",
    "\n",
    "actual_05['lon'], actual_05['lat'], actual_05['label'] = train_df[train_df['year'] == '2005']['lon'], train_df[train_df['year'] == '2005']['lat'], test['binary_label']\n",
    "\n",
    "labels_05, predict_05, = np.zeros((2160, 4320)), np.zeros((2160, 4320))\n",
    "\n"
   ]
  },
  {
   "cell_type": "code",
   "execution_count": 13,
   "metadata": {},
   "outputs": [],
   "source": [
    "t = test_results.values.tolist()\n",
    "s = actual_05.values.tolist()\n",
    "\n",
    "for i in t: \n",
    "    predict_05[int(i[0]),int(i[1])] = i[2]\n",
    "\n",
    "for i in s:\n",
    "    labels_05[int(i[0]),int(i[1])] = i[2]\n",
    "    \n",
    "    \n",
    "with rio.open('2001_prob_crs.tif') as src:\n",
    "    ras_data = src.read()\n",
    "    ras_meta = src.profile\n",
    "\n",
    "\n",
    "# make any necessary changes to raster properties, e.g.:\n",
    "ras_meta['nodata'] = -99\n",
    "\n",
    "with rio.open('output/' + '2005'+ '_trinary.tif', 'w', **ras_meta) as dst:\n",
    "    dst.write(predict_05, 1)\n"
   ]
  },
  {
   "cell_type": "code",
   "execution_count": 14,
   "metadata": {},
   "outputs": [
    {
     "data": {
      "text/plain": [
       "389208.0"
      ]
     },
     "execution_count": 14,
     "metadata": {},
     "output_type": "execute_result"
    }
   ],
   "source": [
    "np.sum(predict_05)"
   ]
  },
  {
   "cell_type": "code",
   "execution_count": 15,
   "metadata": {
    "scrolled": true
   },
   "outputs": [
    {
     "data": {
      "image/png": "[encoded data removed]",
      "text/plain": [
       "<Figure size 432x288 with 1 Axes>"
      ]
     },
     "metadata": {
      "needs_background": "light"
     },
     "output_type": "display_data"
    }
   ],
   "source": [
    "from matplotlib import pyplot as plt\n",
    "%matplotlib inline \n",
    "\n",
    "plt.imshow(predict_05 - labels_05, interpolation='nearest')\n",
    "plt.show()"
   ]
  },
  {
   "cell_type": "code",
   "execution_count": 87,
   "metadata": {},
   "outputs": [],
   "source": []
  },
  {
   "cell_type": "code",
   "execution_count": 88,
   "metadata": {},
   "outputs": [
    {
     "name": "stdout",
     "output_type": "stream",
     "text": [
      "CPU times: user 14min 44s, sys: 3.04 s, total: 14min 47s\n",
      "Wall time: 29 s\n"
     ]
    },
    {
     "data": {
      "text/plain": [
       "ExtraTreesClassifier(bootstrap=False, ccp_alpha=0.0, class_weight=None,\n",
       "                     criterion='gini', max_depth=None, max_features='auto',\n",
       "                     max_leaf_nodes=None, max_samples=None,\n",
       "                     min_impurity_decrease=0.0, min_impurity_split=None,\n",
       "                     min_samples_leaf=1, min_samples_split=2,\n",
       "                     min_weight_fraction_leaf=0.0, n_estimators=500, n_jobs=32,\n",
       "                     oob_score=False, random_state=None, verbose=0,\n",
       "                     warm_start=False)"
      ]
     },
     "execution_count": 88,
     "metadata": {},
     "output_type": "execute_result"
    }
   ],
   "source": []
  },
  {
   "cell_type": "code",
   "execution_count": 89,
   "metadata": {},
   "outputs": [
    {
     "name": "stdout",
     "output_type": "stream",
     "text": [
      "CPU times: user 31 s, sys: 116 ms, total: 31.1 s\n",
      "Wall time: 1.21 s\n",
      "acc 0.9157187879014924\n",
      "kappa 0.7568280924214935\n",
      "              precision    recall  f1-score   support\n",
      "\n",
      "           1       0.95      0.94      0.95    166145\n",
      "           2       0.81      0.81      0.81     47402\n",
      "\n",
      "    accuracy                           0.92    213547\n",
      "   macro avg       0.88      0.88      0.88    213547\n",
      "weighted avg       0.92      0.92      0.92    213547\n",
      "\n"
     ]
    }
   ],
   "source": []
  },
  {
   "cell_type": "code",
   "execution_count": 43,
   "metadata": {
    "scrolled": true
   },
   "outputs": [
    {
     "data": {
      "text/plain": [
       "424       2486\n",
       "559       2427\n",
       "603       2422\n",
       "606       2425\n",
       "607       2426\n",
       "          ... \n",
       "701976    1334\n",
       "701977    1335\n",
       "701995    1334\n",
       "701996    1335\n",
       "702009    1335\n",
       "Name: lat, Length: 250379, dtype: int64"
      ]
     },
     "execution_count": 43,
     "metadata": {},
     "output_type": "execute_result"
    }
   ],
   "source": [
    "test_2['lat']"
   ]
  },
  {
   "cell_type": "code",
   "execution_count": 49,
   "metadata": {},
   "outputs": [],
   "source": []
  },
  {
   "cell_type": "code",
   "execution_count": 50,
   "metadata": {},
   "outputs": [],
   "source": []
  },
  {
   "cell_type": "code",
   "execution_count": null,
   "metadata": {},
   "outputs": [],
   "source": []
  }
 ],
 "metadata": {
  "kernelspec": {
   "display_name": "Python 3",
   "language": "python",
   "name": "python3"
  },
  "language_info": {
   "codemirror_mode": {
    "name": "ipython",
    "version": 3
   },
   "file_extension": ".py",
   "mimetype": "text/x-python",
   "name": "python",
   "nbconvert_exporter": "python",
   "pygments_lexer": "ipython3",
   "version": "3.7.6"
  }
 },
 "nbformat": 4,
 "nbformat_minor": 4
}
