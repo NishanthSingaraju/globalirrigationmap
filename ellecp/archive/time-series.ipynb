{
 "cells": [
  {
   "cell_type": "markdown",
   "metadata": {},
   "source": [
    "## Libary Set-up"
   ]
  },
  {
   "cell_type": "code",
   "execution_count": 1,
   "metadata": {},
   "outputs": [],
   "source": [
    "import numpy as np\n",
    "import pandas as pd\n",
    "from PIL import Image\n",
    "import os\n",
    "import warnings\n",
    "import rasterio as rio\n",
    "\n",
    "%matplotlib inline\n",
    "\n",
    "from netCDF4 import Dataset\n",
    "from pyhdf.SD import SD, SDC\n",
    "from skimage.transform import resize"
   ]
  },
  {
   "cell_type": "code",
   "execution_count": 2,
   "metadata": {},
   "outputs": [],
   "source": [
    "from collections import Counter\n",
    "\n",
    "from sklearn.utils import shuffle\n",
    "from sklearn.pipeline import Pipeline\n",
    "from sklearn.metrics import  confusion_matrix\n",
    "from sklearn.ensemble import RandomForestClassifier\n",
    "from sklearn.ensemble import RandomForestRegressor\n",
    "from sklearn.ensemble import ExtraTreesClassifier\n",
    "from sklearn.model_selection import train_test_split\n",
    "from sklearn.model_selection import GridSearchCV\n",
    "from sklearn.metrics import cohen_kappa_score\n",
    "from sklearn.metrics import classification_report\n",
    "from sklearn.metrics import accuracy_score\n",
    "from imblearn.over_sampling import SMOTE\n",
    "from skimage.transform import resize\n",
    "from sklearn.metrics import mean_squared_error\n",
    "\n",
    "ncores = os.cpu_count()"
   ]
  },
  {
   "cell_type": "markdown",
   "metadata": {},
   "source": [
    "## 2010 cropland boundaries - crop dataset"
   ]
  },
  {
   "cell_type": "code",
   "execution_count": 3,
   "metadata": {},
   "outputs": [],
   "source": [
    "lidar_dem_path = 'lower_scaled_gfsad.tif'\n",
    "with rio.open(lidar_dem_path) as lidar_dem:\n",
    "    im_array = lidar_dem.read()\n",
    "    lidar_dem.bounds"
   ]
  },
  {
   "cell_type": "code",
   "execution_count": 4,
   "metadata": {
    "scrolled": true
   },
   "outputs": [
    {
     "name": "stdout",
     "output_type": "stream",
     "text": [
      "702138\n"
     ]
    }
   ],
   "source": [
    "# Get a list of cropland and their classes\n",
    "im_array = im_array.reshape((2160,4320))\n",
    "\n",
    "def apply_mask(pixel):\n",
    "    if pixel == 9:\n",
    "        return 0\n",
    "    else:\n",
    "        return pixel\n",
    "\n",
    "filter_function = np.vectorize(apply_mask)\n",
    "unmasked_pixels = filter_function(im_array)\n",
    "\n",
    "land_pixels = np.nonzero(unmasked_pixels) \n",
    "# print(np.unique(imarray))\n",
    "land_pixel_classes = im_array[land_pixels].tolist()\n",
    "print(len(land_pixel_classes))"
   ]
  },
  {
   "cell_type": "code",
   "execution_count": 5,
   "metadata": {},
   "outputs": [
    {
     "name": "stdout",
     "output_type": "stream",
     "text": [
      "(702138, 2)\n"
     ]
    }
   ],
   "source": [
    "land_indices = land_pixels \n",
    "non_zero_indices = np.array(land_indices)\n",
    "clean_frame = non_zero_indices.T\n",
    "print(clean_frame.shape)\n",
    "n = clean_frame.shape[0]\n",
    "non_zeros = np.nonzero(im_array)\n",
    "\n",
    "clean_frame_2 = clean_frame \n",
    "clean_frame_df = pd.DataFrame({'lon': clean_frame[:,0], 'lat': clean_frame[:,1]})\n",
    "clean_frame_df['labels'] = land_pixel_classes"
   ]
  },
  {
   "cell_type": "code",
   "execution_count": 9,
   "metadata": {},
   "outputs": [
    {
     "data": {
      "text/html": [
       "<div>\n",
       "<style scoped>\n",
       "    .dataframe tbody tr th:only-of-type {\n",
       "        vertical-align: middle;\n",
       "    }\n",
       "\n",
       "    .dataframe tbody tr th {\n",
       "        vertical-align: top;\n",
       "    }\n",
       "\n",
       "    .dataframe thead th {\n",
       "        text-align: right;\n",
       "    }\n",
       "</style>\n",
       "<table border=\"1\" class=\"dataframe\">\n",
       "  <thead>\n",
       "    <tr style=\"text-align: right;\">\n",
       "      <th></th>\n",
       "      <th>lon</th>\n",
       "      <th>lat</th>\n",
       "      <th>labels</th>\n",
       "    </tr>\n",
       "  </thead>\n",
       "  <tbody>\n",
       "    <tr>\n",
       "      <th>0</th>\n",
       "      <td>294</td>\n",
       "      <td>2469</td>\n",
       "      <td>8</td>\n",
       "    </tr>\n",
       "    <tr>\n",
       "      <th>1</th>\n",
       "      <td>295</td>\n",
       "      <td>2467</td>\n",
       "      <td>8</td>\n",
       "    </tr>\n",
       "    <tr>\n",
       "      <th>2</th>\n",
       "      <td>295</td>\n",
       "      <td>2468</td>\n",
       "      <td>8</td>\n",
       "    </tr>\n",
       "    <tr>\n",
       "      <th>3</th>\n",
       "      <td>300</td>\n",
       "      <td>2466</td>\n",
       "      <td>8</td>\n",
       "    </tr>\n",
       "    <tr>\n",
       "      <th>4</th>\n",
       "      <td>300</td>\n",
       "      <td>2467</td>\n",
       "      <td>8</td>\n",
       "    </tr>\n",
       "    <tr>\n",
       "      <th>...</th>\n",
       "      <td>...</td>\n",
       "      <td>...</td>\n",
       "      <td>...</td>\n",
       "    </tr>\n",
       "    <tr>\n",
       "      <th>702133</th>\n",
       "      <td>1745</td>\n",
       "      <td>1328</td>\n",
       "      <td>8</td>\n",
       "    </tr>\n",
       "    <tr>\n",
       "      <th>702134</th>\n",
       "      <td>1745</td>\n",
       "      <td>1334</td>\n",
       "      <td>8</td>\n",
       "    </tr>\n",
       "    <tr>\n",
       "      <th>702135</th>\n",
       "      <td>1745</td>\n",
       "      <td>1339</td>\n",
       "      <td>8</td>\n",
       "    </tr>\n",
       "    <tr>\n",
       "      <th>702136</th>\n",
       "      <td>1745</td>\n",
       "      <td>1340</td>\n",
       "      <td>8</td>\n",
       "    </tr>\n",
       "    <tr>\n",
       "      <th>702137</th>\n",
       "      <td>1745</td>\n",
       "      <td>1341</td>\n",
       "      <td>8</td>\n",
       "    </tr>\n",
       "  </tbody>\n",
       "</table>\n",
       "<p>702138 rows × 3 columns</p>\n",
       "</div>"
      ],
      "text/plain": [
       "         lon   lat  labels\n",
       "0        294  2469       8\n",
       "1        295  2467       8\n",
       "2        295  2468       8\n",
       "3        300  2466       8\n",
       "4        300  2467       8\n",
       "...      ...   ...     ...\n",
       "702133  1745  1328       8\n",
       "702134  1745  1334       8\n",
       "702135  1745  1339       8\n",
       "702136  1745  1340       8\n",
       "702137  1745  1341       8\n",
       "\n",
       "[702138 rows x 3 columns]"
      ]
     },
     "execution_count": 9,
     "metadata": {},
     "output_type": "execute_result"
    }
   ],
   "source": [
    "clean_frame_df"
   ]
  },
  {
   "cell_type": "code",
   "execution_count": 6,
   "metadata": {},
   "outputs": [],
   "source": [
    "## Add siebert labels"
   ]
  },
  {
   "cell_type": "code",
   "execution_count": 7,
   "metadata": {},
   "outputs": [
    {
     "data": {
      "text/plain": [
       "array([[0., 0., 0., ..., 0., 0., 0.],\n",
       "       [0., 0., 0., ..., 0., 0., 0.],\n",
       "       [0., 0., 0., ..., 0., 0., 0.],\n",
       "       ...,\n",
       "       [0., 0., 0., ..., 0., 0., 0.],\n",
       "       [0., 0., 0., ..., 0., 0., 0.],\n",
       "       [0., 0., 0., ..., 0., 0., 0.]])"
      ]
     },
     "execution_count": 7,
     "metadata": {},
     "output_type": "execute_result"
    }
   ],
   "source": [
    "tifs = ['1985', '1990', '1995', '2000', '2005']\n",
    "years = ['1985', '1990', '1995', '2000', '2005', '2010', '2015']\n",
    "lidar_dem_path = 'C:\\\\Users\\\\Elle\\\\Documents\\\\w210\\\\1985.tif'\n",
    "times_series_labels = np.zeros((5, 2160, 4320))\n",
    "for i in range(len(tifs)):\n",
    "    lidar_dem_path = tifs[i] +'.tif'\n",
    "    with rio.open(lidar_dem_path) as lidar_dem:\n",
    "        array = lidar_dem.read() \n",
    "        array = array.reshape(2160, 4320)\n",
    "        clean_frame_df[str(tifs[i])] = array[land_indices].reshape(n,1)\n",
    "\n",
    "times_series_labels[0]"
   ]
  },
  {
   "cell_type": "code",
   "execution_count": 8,
   "metadata": {},
   "outputs": [
    {
     "data": {
      "text/html": [
       "<div>\n",
       "<style scoped>\n",
       "    .dataframe tbody tr th:only-of-type {\n",
       "        vertical-align: middle;\n",
       "    }\n",
       "\n",
       "    .dataframe tbody tr th {\n",
       "        vertical-align: top;\n",
       "    }\n",
       "\n",
       "    .dataframe thead th {\n",
       "        text-align: right;\n",
       "    }\n",
       "</style>\n",
       "<table border=\"1\" class=\"dataframe\">\n",
       "  <thead>\n",
       "    <tr style=\"text-align: right;\">\n",
       "      <th></th>\n",
       "      <th>lon</th>\n",
       "      <th>lat</th>\n",
       "      <th>1985</th>\n",
       "      <th>1990</th>\n",
       "      <th>1995</th>\n",
       "      <th>2000</th>\n",
       "      <th>2005</th>\n",
       "    </tr>\n",
       "    <tr>\n",
       "      <th>labels</th>\n",
       "      <th></th>\n",
       "      <th></th>\n",
       "      <th></th>\n",
       "      <th></th>\n",
       "      <th></th>\n",
       "      <th></th>\n",
       "      <th></th>\n",
       "    </tr>\n",
       "  </thead>\n",
       "  <tbody>\n",
       "    <tr>\n",
       "      <th>1</th>\n",
       "      <td>10944</td>\n",
       "      <td>10944</td>\n",
       "      <td>10944</td>\n",
       "      <td>10944</td>\n",
       "      <td>10944</td>\n",
       "      <td>10944</td>\n",
       "      <td>10944</td>\n",
       "    </tr>\n",
       "    <tr>\n",
       "      <th>2</th>\n",
       "      <td>6774</td>\n",
       "      <td>6774</td>\n",
       "      <td>6774</td>\n",
       "      <td>6774</td>\n",
       "      <td>6774</td>\n",
       "      <td>6774</td>\n",
       "      <td>6774</td>\n",
       "    </tr>\n",
       "    <tr>\n",
       "      <th>3</th>\n",
       "      <td>8528</td>\n",
       "      <td>8528</td>\n",
       "      <td>8528</td>\n",
       "      <td>8528</td>\n",
       "      <td>8528</td>\n",
       "      <td>8528</td>\n",
       "      <td>8528</td>\n",
       "    </tr>\n",
       "    <tr>\n",
       "      <th>4</th>\n",
       "      <td>2280</td>\n",
       "      <td>2280</td>\n",
       "      <td>2280</td>\n",
       "      <td>2280</td>\n",
       "      <td>2280</td>\n",
       "      <td>2280</td>\n",
       "      <td>2280</td>\n",
       "    </tr>\n",
       "    <tr>\n",
       "      <th>5</th>\n",
       "      <td>1718</td>\n",
       "      <td>1718</td>\n",
       "      <td>1718</td>\n",
       "      <td>1718</td>\n",
       "      <td>1718</td>\n",
       "      <td>1718</td>\n",
       "      <td>1718</td>\n",
       "    </tr>\n",
       "    <tr>\n",
       "      <th>6</th>\n",
       "      <td>495</td>\n",
       "      <td>495</td>\n",
       "      <td>495</td>\n",
       "      <td>495</td>\n",
       "      <td>495</td>\n",
       "      <td>495</td>\n",
       "      <td>495</td>\n",
       "    </tr>\n",
       "    <tr>\n",
       "      <th>7</th>\n",
       "      <td>4680</td>\n",
       "      <td>4680</td>\n",
       "      <td>4680</td>\n",
       "      <td>4680</td>\n",
       "      <td>4680</td>\n",
       "      <td>4680</td>\n",
       "      <td>4680</td>\n",
       "    </tr>\n",
       "    <tr>\n",
       "      <th>8</th>\n",
       "      <td>1456</td>\n",
       "      <td>1456</td>\n",
       "      <td>1456</td>\n",
       "      <td>1456</td>\n",
       "      <td>1456</td>\n",
       "      <td>1456</td>\n",
       "      <td>1456</td>\n",
       "    </tr>\n",
       "  </tbody>\n",
       "</table>\n",
       "</div>"
      ],
      "text/plain": [
       "          lon    lat   1985   1990   1995   2000   2005\n",
       "labels                                                 \n",
       "1       10944  10944  10944  10944  10944  10944  10944\n",
       "2        6774   6774   6774   6774   6774   6774   6774\n",
       "3        8528   8528   8528   8528   8528   8528   8528\n",
       "4        2280   2280   2280   2280   2280   2280   2280\n",
       "5        1718   1718   1718   1718   1718   1718   1718\n",
       "6         495    495    495    495    495    495    495\n",
       "7        4680   4680   4680   4680   4680   4680   4680\n",
       "8        1456   1456   1456   1456   1456   1456   1456"
      ]
     },
     "execution_count": 8,
     "metadata": {},
     "output_type": "execute_result"
    }
   ],
   "source": [
    "clean_frame_df[clean_frame_df['1985']>2000].groupby(['labels']).count()"
   ]
  },
  {
   "cell_type": "code",
   "execution_count": 9,
   "metadata": {},
   "outputs": [],
   "source": [
    "df = clean_frame_df[['labels','1985', '1990', '1995', '2000', '2005']]"
   ]
  },
  {
   "cell_type": "code",
   "execution_count": 10,
   "metadata": {},
   "outputs": [
    {
     "data": {
      "text/plain": [
       "labels     8.000\n",
       "1985      65.040\n",
       "1990      73.682\n",
       "1995      78.392\n",
       "2000      79.313\n",
       "2005      83.540\n",
       "Name: 0.75, dtype: float64"
      ]
     },
     "execution_count": 10,
     "metadata": {},
     "output_type": "execute_result"
    }
   ],
   "source": [
    "df[df['labels']>3].quantile(.75)"
   ]
  },
  {
   "cell_type": "code",
   "execution_count": 11,
   "metadata": {
    "scrolled": true
   },
   "outputs": [
    {
     "data": {
      "text/plain": [
       "lon        598.000\n",
       "lat       2701.000\n",
       "labels       1.000\n",
       "1985        50.897\n",
       "1990        81.681\n",
       "1995       107.460\n",
       "2000       125.600\n",
       "2005       133.300\n",
       "Name: 0.25, dtype: float64"
      ]
     },
     "execution_count": 11,
     "metadata": {},
     "output_type": "execute_result"
    }
   ],
   "source": [
    "clean_frame_df[df['labels']<4].quantile(.25)"
   ]
  },
  {
   "cell_type": "code",
   "execution_count": 12,
   "metadata": {},
   "outputs": [],
   "source": [
    "df_85, df_90, df_95, df_00, df_05, df_10, df_15  =  pd.DataFrame(), pd.DataFrame(), pd.DataFrame(), pd.DataFrame(), pd.DataFrame(), pd.DataFrame(), pd.DataFrame()\n",
    "\n",
    "\n",
    "df_lists = [df_85, df_90, df_95, df_00, df_05, df_10, df_15]\n",
    "\n",
    "for i in range(len(df_lists)):\n",
    "    df_lists[i]['lat'] = clean_frame_df['lat']\n",
    "    df_lists[i]['lon'] = clean_frame_df['lon']\n",
    "    if i < 5:\n",
    "        df_lists[i]['labels'] = clean_frame_df[tifs[i]]\n",
    "    "
   ]
  },
  {
   "cell_type": "code",
   "execution_count": 13,
   "metadata": {},
   "outputs": [],
   "source": [
    "for i in range(len(df_lists[:5])):\n",
    "    df_lists[i]['year'] = years[i]"
   ]
  },
  {
   "cell_type": "code",
   "execution_count": 14,
   "metadata": {},
   "outputs": [
    {
     "name": "stderr",
     "output_type": "stream",
     "text": [
      "/home/ubuntu/anaconda3/envs/w210-dlvm/lib/python3.7/site-packages/ipykernel_launcher.py:7: UserWarning: WARNING: valid_range not used since it\n",
      "cannot be safely cast to variable data type\n",
      "  import sys\n"
     ]
    }
   ],
   "source": [
    "measures = ['max_y1', 'min_y1', 'mean_y1', 'var_y1', 'max_y2', 'min_y2', 'mean_y2', 'var_y2']\n",
    "ndvi_list = os.listdir('ndvi')\n",
    "def retrieve_ndvi(indices, length, year):\n",
    "            path = 'ndvi/ndvi3g_geo_v1_'\n",
    "            file_1h = path + year + '_0106.nc4'\n",
    "            file_2h = path + year + '_0712.nc4' \n",
    "            ds_1, ds_2 = np.array(Dataset(file_1h)['ndvi']) , np.array(Dataset(file_2h)['ndvi'])\n",
    "            max_y1 = np.max(ds_1, axis = 0)[indices].reshape(length,1)\n",
    "            min_y1 = np.min(ds_1, axis = 0)[indices].reshape(length,1)\n",
    "            var_y1 = np.var(ds_1, axis = 0)[indices].reshape(length,1)\n",
    "            mean_y1= np.mean(ds_1, axis = 0)[indices].reshape(length,1)\n",
    "            max_y2 = np.max(ds_2, axis = 0)[indices].reshape(length,1)\n",
    "            min_y2 = np.min(ds_2, axis = 0)[indices].reshape(length,1)\n",
    "            var_y2 = np.var(ds_2, axis = 0)[indices].reshape(length,1)\n",
    "            mean_y2 = np.mean(ds_2, axis = 0)[indices].reshape(length,1)\n",
    "            return max_y1, min_y1, mean_y1, var_y1, max_y2, min_y2, mean_y2, var_y2\n",
    "\n",
    "for i in range(len(df_lists)):\n",
    "    df_lists[i]['max_y1_ndvi'], df_lists[i]['min_y1_ndvi'], df_lists[i]['mean_y1_ndvi'], df_lists[i]['var_y1_ndvi'], df_lists[i]['max_y2_ndvi'], df_lists[i]['min_y2_ndvi'], df_lists[i]['mean_y2_ndvi'], df_lists[i]['var_y2_ndvi'] = retrieve_ndvi(land_indices, n, years[i])\n"
   ]
  },
  {
   "cell_type": "code",
   "execution_count": 15,
   "metadata": {},
   "outputs": [
    {
     "name": "stdout",
     "output_type": "stream",
     "text": [
      "702138\n"
     ]
    }
   ],
   "source": [
    "print(n)"
   ]
  },
  {
   "cell_type": "code",
   "execution_count": 16,
   "metadata": {},
   "outputs": [
    {
     "name": "stdout",
     "output_type": "stream",
     "text": [
      "aet,0\n",
      "aet,1\n",
      "aet,2\n",
      "aet,3\n",
      "aet,4\n",
      "aet,5\n",
      "aet,6\n",
      "def,0\n",
      "def,1\n",
      "def,2\n",
      "def,3\n",
      "def,4\n",
      "def,5\n",
      "def,6\n",
      "pet,0\n",
      "pet,1\n",
      "pet,2\n",
      "pet,3\n",
      "pet,4\n",
      "pet,5\n",
      "pet,6\n",
      "ppt,0\n",
      "ppt,1\n",
      "ppt,2\n",
      "ppt,3\n",
      "ppt,4\n",
      "ppt,5\n",
      "ppt,6\n",
      "srad,0\n",
      "srad,1\n",
      "srad,2\n",
      "srad,3\n",
      "srad,4\n",
      "srad,5\n",
      "srad,6\n",
      "tmax,0\n",
      "tmax,1\n",
      "tmax,2\n",
      "tmax,3\n",
      "tmax,4\n",
      "tmax,5\n",
      "tmax,6\n",
      "tmin,0\n",
      "tmin,1\n",
      "tmin,2\n",
      "tmin,3\n",
      "tmin,4\n",
      "tmin,5\n",
      "tmin,6\n",
      "vap,0\n",
      "vap,1\n",
      "vap,2\n",
      "vap,3\n",
      "vap,4\n",
      "vap,5\n",
      "vap,6\n",
      "vpd,0\n",
      "vpd,1\n",
      "vpd,2\n",
      "vpd,3\n",
      "vpd,4\n",
      "vpd,5\n",
      "vpd,6\n"
     ]
    }
   ],
   "source": [
    "measures = ['aet', 'def', 'pet', 'ppt', 'srad', 'tmax', 'tmin', 'vap', 'vpd'] \n",
    "\n",
    "def extract_nc(indices, length, year, variable):\n",
    "    path = 'climate/' + year + '/' + variable + '/'\n",
    "    full_path = path + 'TerraClimate_' + variable +'_' + year + '.nc'\n",
    "    ds = np.array(Dataset(full_path)[variable])\n",
    "    max_y1 = np.max(ds, axis = 0)\n",
    "    min_y1 = np.min(ds, axis = 0)\n",
    "    var_y1 = np.var(ds, axis = 0)\n",
    "    mean_y1 = np.mean(ds, axis = 0)\n",
    "    max_y1 = resize(max_y1, (2160, 4320))[indices].reshape(length,1)\n",
    "    min_y1 = resize(min_y1, (2160, 4320))[indices].reshape(length,1)\n",
    "    var_y1 = resize(var_y1, (2160, 4320))[indices].reshape(length,1)\n",
    "    mean_y1 = resize(mean_y1, (2160, 4320))[indices].reshape(length,1)\n",
    "    return max_y1, min_y1, var_y1, mean_y1\n",
    "\n",
    "\n",
    "for i in measures:\n",
    "    for j in range(len(df_lists)):\n",
    "        df_lists[j][i+'_max'], df_lists[j][i+'_min'], df_lists[j][i+'_var'], df_lists[j][i+'_mean'] = extract_nc(land_indices, n, years[j], i)\n",
    "        print(i+\",\"+str(j))"
   ]
  },
  {
   "cell_type": "code",
   "execution_count": null,
   "metadata": {},
   "outputs": [],
   "source": [
    "for j in df_lists:\n",
    "    for i in measures_2:\n",
    "        j[i+'_lt_max'] = clean_frame_df[i+'_lt_max'] \n",
    "        j[i+'_lt_min'] = clean_frame_df[i+'_lt_min'] \n",
    "        j[i+'_lt_var'] = clean_frame_df[i+'_lt_var']\n",
    "        j[i+'_lt_mean'] = clean_frame_df[i+'_lt_mean']"
   ]
  },
  {
   "cell_type": "code",
   "execution_count": 17,
   "metadata": {},
   "outputs": [
    {
     "data": {
      "text/html": [
       "<div>\n",
       "<style scoped>\n",
       "    .dataframe tbody tr th:only-of-type {\n",
       "        vertical-align: middle;\n",
       "    }\n",
       "\n",
       "    .dataframe tbody tr th {\n",
       "        vertical-align: top;\n",
       "    }\n",
       "\n",
       "    .dataframe thead th {\n",
       "        text-align: right;\n",
       "    }\n",
       "</style>\n",
       "<table border=\"1\" class=\"dataframe\">\n",
       "  <thead>\n",
       "    <tr style=\"text-align: right;\">\n",
       "      <th></th>\n",
       "      <th>lat</th>\n",
       "      <th>lon</th>\n",
       "      <th>labels</th>\n",
       "      <th>year</th>\n",
       "      <th>max_y1_ndvi</th>\n",
       "      <th>min_y1_ndvi</th>\n",
       "      <th>mean_y1_ndvi</th>\n",
       "      <th>var_y1_ndvi</th>\n",
       "      <th>max_y2_ndvi</th>\n",
       "      <th>min_y2_ndvi</th>\n",
       "      <th>...</th>\n",
       "      <th>tmin_var</th>\n",
       "      <th>tmin_mean</th>\n",
       "      <th>vap_max</th>\n",
       "      <th>vap_min</th>\n",
       "      <th>vap_var</th>\n",
       "      <th>vap_mean</th>\n",
       "      <th>vpd_max</th>\n",
       "      <th>vpd_min</th>\n",
       "      <th>vpd_var</th>\n",
       "      <th>vpd_mean</th>\n",
       "    </tr>\n",
       "  </thead>\n",
       "  <tbody>\n",
       "    <tr>\n",
       "      <th>0</th>\n",
       "      <td>2469</td>\n",
       "      <td>294</td>\n",
       "      <td>0.000</td>\n",
       "      <td>1995</td>\n",
       "      <td>8125</td>\n",
       "      <td>1355</td>\n",
       "      <td>3456.166667</td>\n",
       "      <td>6.154483e+06</td>\n",
       "      <td>8354</td>\n",
       "      <td>1757</td>\n",
       "      <td>...</td>\n",
       "      <td>72.708703</td>\n",
       "      <td>-2.309421</td>\n",
       "      <td>1.052261</td>\n",
       "      <td>0.190029</td>\n",
       "      <td>0.096392</td>\n",
       "      <td>0.602155</td>\n",
       "      <td>0.655236</td>\n",
       "      <td>0.060001</td>\n",
       "      <td>0.043997</td>\n",
       "      <td>0.257991</td>\n",
       "    </tr>\n",
       "    <tr>\n",
       "      <th>1</th>\n",
       "      <td>2467</td>\n",
       "      <td>295</td>\n",
       "      <td>0.000</td>\n",
       "      <td>1995</td>\n",
       "      <td>8234</td>\n",
       "      <td>1013</td>\n",
       "      <td>2970.250000</td>\n",
       "      <td>7.409264e+06</td>\n",
       "      <td>8532</td>\n",
       "      <td>1013</td>\n",
       "      <td>...</td>\n",
       "      <td>71.795190</td>\n",
       "      <td>-2.016761</td>\n",
       "      <td>1.070505</td>\n",
       "      <td>0.200001</td>\n",
       "      <td>0.097947</td>\n",
       "      <td>0.613331</td>\n",
       "      <td>0.648065</td>\n",
       "      <td>0.052740</td>\n",
       "      <td>0.044318</td>\n",
       "      <td>0.257815</td>\n",
       "    </tr>\n",
       "    <tr>\n",
       "      <th>2</th>\n",
       "      <td>2468</td>\n",
       "      <td>295</td>\n",
       "      <td>0.000</td>\n",
       "      <td>1995</td>\n",
       "      <td>8164</td>\n",
       "      <td>1789</td>\n",
       "      <td>3760.000000</td>\n",
       "      <td>5.416447e+06</td>\n",
       "      <td>8384</td>\n",
       "      <td>2036</td>\n",
       "      <td>...</td>\n",
       "      <td>72.464317</td>\n",
       "      <td>-2.046715</td>\n",
       "      <td>1.067528</td>\n",
       "      <td>0.199254</td>\n",
       "      <td>0.098399</td>\n",
       "      <td>0.611172</td>\n",
       "      <td>0.656253</td>\n",
       "      <td>0.055240</td>\n",
       "      <td>0.044871</td>\n",
       "      <td>0.261548</td>\n",
       "    </tr>\n",
       "    <tr>\n",
       "      <th>3</th>\n",
       "      <td>2466</td>\n",
       "      <td>300</td>\n",
       "      <td>12.671</td>\n",
       "      <td>1995</td>\n",
       "      <td>7921</td>\n",
       "      <td>1602</td>\n",
       "      <td>3387.833333</td>\n",
       "      <td>4.432473e+06</td>\n",
       "      <td>8055</td>\n",
       "      <td>1978</td>\n",
       "      <td>...</td>\n",
       "      <td>70.747906</td>\n",
       "      <td>-1.139078</td>\n",
       "      <td>1.127174</td>\n",
       "      <td>0.220447</td>\n",
       "      <td>0.103092</td>\n",
       "      <td>0.646327</td>\n",
       "      <td>0.695474</td>\n",
       "      <td>0.050030</td>\n",
       "      <td>0.051355</td>\n",
       "      <td>0.270614</td>\n",
       "    </tr>\n",
       "    <tr>\n",
       "      <th>4</th>\n",
       "      <td>2467</td>\n",
       "      <td>300</td>\n",
       "      <td>10.419</td>\n",
       "      <td>1995</td>\n",
       "      <td>8364</td>\n",
       "      <td>2066</td>\n",
       "      <td>4057.083333</td>\n",
       "      <td>4.549127e+06</td>\n",
       "      <td>8269</td>\n",
       "      <td>2525</td>\n",
       "      <td>...</td>\n",
       "      <td>69.954438</td>\n",
       "      <td>-1.288086</td>\n",
       "      <td>1.119525</td>\n",
       "      <td>0.214760</td>\n",
       "      <td>0.103172</td>\n",
       "      <td>0.639063</td>\n",
       "      <td>0.691459</td>\n",
       "      <td>0.054466</td>\n",
       "      <td>0.047753</td>\n",
       "      <td>0.268260</td>\n",
       "    </tr>\n",
       "    <tr>\n",
       "      <th>...</th>\n",
       "      <td>...</td>\n",
       "      <td>...</td>\n",
       "      <td>...</td>\n",
       "      <td>...</td>\n",
       "      <td>...</td>\n",
       "      <td>...</td>\n",
       "      <td>...</td>\n",
       "      <td>...</td>\n",
       "      <td>...</td>\n",
       "      <td>...</td>\n",
       "      <td>...</td>\n",
       "      <td>...</td>\n",
       "      <td>...</td>\n",
       "      <td>...</td>\n",
       "      <td>...</td>\n",
       "      <td>...</td>\n",
       "      <td>...</td>\n",
       "      <td>...</td>\n",
       "      <td>...</td>\n",
       "      <td>...</td>\n",
       "      <td>...</td>\n",
       "    </tr>\n",
       "    <tr>\n",
       "      <th>702133</th>\n",
       "      <td>1328</td>\n",
       "      <td>1745</td>\n",
       "      <td>0.000</td>\n",
       "      <td>1995</td>\n",
       "      <td>6965</td>\n",
       "      <td>3985</td>\n",
       "      <td>5416.166667</td>\n",
       "      <td>9.403010e+05</td>\n",
       "      <td>6335</td>\n",
       "      <td>3757</td>\n",
       "      <td>...</td>\n",
       "      <td>7.356412</td>\n",
       "      <td>0.090630</td>\n",
       "      <td>0.912536</td>\n",
       "      <td>0.521160</td>\n",
       "      <td>0.015502</td>\n",
       "      <td>0.732485</td>\n",
       "      <td>0.253341</td>\n",
       "      <td>0.024216</td>\n",
       "      <td>0.006231</td>\n",
       "      <td>0.144536</td>\n",
       "    </tr>\n",
       "    <tr>\n",
       "      <th>702134</th>\n",
       "      <td>1334</td>\n",
       "      <td>1745</td>\n",
       "      <td>0.000</td>\n",
       "      <td>1995</td>\n",
       "      <td>7712</td>\n",
       "      <td>5112</td>\n",
       "      <td>6512.333333</td>\n",
       "      <td>8.967406e+05</td>\n",
       "      <td>6732</td>\n",
       "      <td>4542</td>\n",
       "      <td>...</td>\n",
       "      <td>7.688577</td>\n",
       "      <td>1.994188</td>\n",
       "      <td>3.051164</td>\n",
       "      <td>2.665147</td>\n",
       "      <td>0.016046</td>\n",
       "      <td>2.873173</td>\n",
       "      <td>2.427776</td>\n",
       "      <td>2.198685</td>\n",
       "      <td>0.005796</td>\n",
       "      <td>2.319364</td>\n",
       "    </tr>\n",
       "    <tr>\n",
       "      <th>702135</th>\n",
       "      <td>1339</td>\n",
       "      <td>1745</td>\n",
       "      <td>0.000</td>\n",
       "      <td>1995</td>\n",
       "      <td>8395</td>\n",
       "      <td>4063</td>\n",
       "      <td>6706.750000</td>\n",
       "      <td>1.273591e+06</td>\n",
       "      <td>7141</td>\n",
       "      <td>4469</td>\n",
       "      <td>...</td>\n",
       "      <td>8.642017</td>\n",
       "      <td>4.519217</td>\n",
       "      <td>4.982084</td>\n",
       "      <td>4.606134</td>\n",
       "      <td>0.015706</td>\n",
       "      <td>4.802324</td>\n",
       "      <td>4.427008</td>\n",
       "      <td>4.136039</td>\n",
       "      <td>0.009057</td>\n",
       "      <td>4.297690</td>\n",
       "    </tr>\n",
       "    <tr>\n",
       "      <th>702136</th>\n",
       "      <td>1340</td>\n",
       "      <td>1745</td>\n",
       "      <td>0.000</td>\n",
       "      <td>1995</td>\n",
       "      <td>7581</td>\n",
       "      <td>5566</td>\n",
       "      <td>7030.750000</td>\n",
       "      <td>2.755637e+05</td>\n",
       "      <td>7510</td>\n",
       "      <td>5030</td>\n",
       "      <td>...</td>\n",
       "      <td>8.545514</td>\n",
       "      <td>4.709310</td>\n",
       "      <td>5.216053</td>\n",
       "      <td>4.833997</td>\n",
       "      <td>0.015893</td>\n",
       "      <td>5.028848</td>\n",
       "      <td>4.660798</td>\n",
       "      <td>4.368007</td>\n",
       "      <td>0.008984</td>\n",
       "      <td>4.533811</td>\n",
       "    </tr>\n",
       "    <tr>\n",
       "      <th>702137</th>\n",
       "      <td>1341</td>\n",
       "      <td>1745</td>\n",
       "      <td>0.000</td>\n",
       "      <td>1995</td>\n",
       "      <td>7794</td>\n",
       "      <td>4582</td>\n",
       "      <td>6876.750000</td>\n",
       "      <td>9.748155e+05</td>\n",
       "      <td>7522</td>\n",
       "      <td>5161</td>\n",
       "      <td>...</td>\n",
       "      <td>8.598999</td>\n",
       "      <td>4.839507</td>\n",
       "      <td>5.447877</td>\n",
       "      <td>5.066712</td>\n",
       "      <td>0.015657</td>\n",
       "      <td>5.258646</td>\n",
       "      <td>4.883223</td>\n",
       "      <td>4.592309</td>\n",
       "      <td>0.009143</td>\n",
       "      <td>4.760317</td>\n",
       "    </tr>\n",
       "  </tbody>\n",
       "</table>\n",
       "<p>702138 rows × 48 columns</p>\n",
       "</div>"
      ],
      "text/plain": [
       "         lat   lon  labels  year  max_y1_ndvi  min_y1_ndvi  mean_y1_ndvi  \\\n",
       "0       2469   294   0.000  1995         8125         1355   3456.166667   \n",
       "1       2467   295   0.000  1995         8234         1013   2970.250000   \n",
       "2       2468   295   0.000  1995         8164         1789   3760.000000   \n",
       "3       2466   300  12.671  1995         7921         1602   3387.833333   \n",
       "4       2467   300  10.419  1995         8364         2066   4057.083333   \n",
       "...      ...   ...     ...   ...          ...          ...           ...   \n",
       "702133  1328  1745   0.000  1995         6965         3985   5416.166667   \n",
       "702134  1334  1745   0.000  1995         7712         5112   6512.333333   \n",
       "702135  1339  1745   0.000  1995         8395         4063   6706.750000   \n",
       "702136  1340  1745   0.000  1995         7581         5566   7030.750000   \n",
       "702137  1341  1745   0.000  1995         7794         4582   6876.750000   \n",
       "\n",
       "         var_y1_ndvi  max_y2_ndvi  min_y2_ndvi  ...   tmin_var  tmin_mean  \\\n",
       "0       6.154483e+06         8354         1757  ...  72.708703  -2.309421   \n",
       "1       7.409264e+06         8532         1013  ...  71.795190  -2.016761   \n",
       "2       5.416447e+06         8384         2036  ...  72.464317  -2.046715   \n",
       "3       4.432473e+06         8055         1978  ...  70.747906  -1.139078   \n",
       "4       4.549127e+06         8269         2525  ...  69.954438  -1.288086   \n",
       "...              ...          ...          ...  ...        ...        ...   \n",
       "702133  9.403010e+05         6335         3757  ...   7.356412   0.090630   \n",
       "702134  8.967406e+05         6732         4542  ...   7.688577   1.994188   \n",
       "702135  1.273591e+06         7141         4469  ...   8.642017   4.519217   \n",
       "702136  2.755637e+05         7510         5030  ...   8.545514   4.709310   \n",
       "702137  9.748155e+05         7522         5161  ...   8.598999   4.839507   \n",
       "\n",
       "         vap_max   vap_min   vap_var  vap_mean   vpd_max   vpd_min   vpd_var  \\\n",
       "0       1.052261  0.190029  0.096392  0.602155  0.655236  0.060001  0.043997   \n",
       "1       1.070505  0.200001  0.097947  0.613331  0.648065  0.052740  0.044318   \n",
       "2       1.067528  0.199254  0.098399  0.611172  0.656253  0.055240  0.044871   \n",
       "3       1.127174  0.220447  0.103092  0.646327  0.695474  0.050030  0.051355   \n",
       "4       1.119525  0.214760  0.103172  0.639063  0.691459  0.054466  0.047753   \n",
       "...          ...       ...       ...       ...       ...       ...       ...   \n",
       "702133  0.912536  0.521160  0.015502  0.732485  0.253341  0.024216  0.006231   \n",
       "702134  3.051164  2.665147  0.016046  2.873173  2.427776  2.198685  0.005796   \n",
       "702135  4.982084  4.606134  0.015706  4.802324  4.427008  4.136039  0.009057   \n",
       "702136  5.216053  4.833997  0.015893  5.028848  4.660798  4.368007  0.008984   \n",
       "702137  5.447877  5.066712  0.015657  5.258646  4.883223  4.592309  0.009143   \n",
       "\n",
       "        vpd_mean  \n",
       "0       0.257991  \n",
       "1       0.257815  \n",
       "2       0.261548  \n",
       "3       0.270614  \n",
       "4       0.268260  \n",
       "...          ...  \n",
       "702133  0.144536  \n",
       "702134  2.319364  \n",
       "702135  4.297690  \n",
       "702136  4.533811  \n",
       "702137  4.760317  \n",
       "\n",
       "[702138 rows x 48 columns]"
      ]
     },
     "execution_count": 17,
     "metadata": {},
     "output_type": "execute_result"
    }
   ],
   "source": [
    "df_95"
   ]
  },
  {
   "cell_type": "code",
   "execution_count": 21,
   "metadata": {},
   "outputs": [
    {
     "ename": "NameError",
     "evalue": "name 'feat' is not defined",
     "output_type": "error",
     "traceback": [
      "\u001b[0;31m---------------------------------------------------------------------------\u001b[0m",
      "\u001b[0;31mNameError\u001b[0m                                 Traceback (most recent call last)",
      "\u001b[0;32m<ipython-input-21-b1463d79120b>\u001b[0m in \u001b[0;36m<module>\u001b[0;34m\u001b[0m\n\u001b[0;32m----> 1\u001b[0;31m \u001b[0mdf_05\u001b[0m\u001b[0;34m[\u001b[0m\u001b[0mfeat\u001b[0m\u001b[0;34m]\u001b[0m \u001b[0;34m-\u001b[0m \u001b[0mdf_00\u001b[0m\u001b[0;34m[\u001b[0m\u001b[0mfeat\u001b[0m\u001b[0;34m]\u001b[0m\u001b[0;34m\u001b[0m\u001b[0;34m\u001b[0m\u001b[0m\n\u001b[0m",
      "\u001b[0;31mNameError\u001b[0m: name 'feat' is not defined"
     ]
    }
   ],
   "source": []
  },
  {
   "cell_type": "code",
   "execution_count": null,
   "metadata": {},
   "outputs": [],
   "source": [
    "combined_df = pd.concat([df_85, df_90, df_95, df_00, df_05])\n",
    "len(combined_df.columns)"
   ]
  },
  {
   "cell_type": "code",
   "execution_count": 20,
   "metadata": {},
   "outputs": [
    {
     "data": {
      "text/plain": [
       "Index(['lat', 'lon', 'labels', 'year', 'max_y1_ndvi', 'min_y1_ndvi',\n",
       "       'mean_y1_ndvi', 'var_y1_ndvi', 'max_y2_ndvi', 'min_y2_ndvi',\n",
       "       'mean_y2_ndvi', 'var_y2_ndvi', 'aet_max', 'aet_min', 'aet_var',\n",
       "       'aet_mean', 'def_max', 'def_min', 'def_var', 'def_mean', 'pet_max',\n",
       "       'pet_min', 'pet_var', 'pet_mean', 'ppt_max', 'ppt_min', 'ppt_var',\n",
       "       'ppt_mean', 'srad_max', 'srad_min', 'srad_var', 'srad_mean', 'tmax_max',\n",
       "       'tmax_min', 'tmax_var', 'tmax_mean', 'tmin_max', 'tmin_min', 'tmin_var',\n",
       "       'tmin_mean', 'vap_max', 'vap_min', 'vap_var', 'vap_mean', 'vpd_max',\n",
       "       'vpd_min', 'vpd_var', 'vpd_mean'],\n",
       "      dtype='object')"
      ]
     },
     "execution_count": 20,
     "metadata": {},
     "output_type": "execute_result"
    }
   ],
   "source": [
    "df_95.columns"
   ]
  },
  {
   "cell_type": "code",
   "execution_count": 29,
   "metadata": {},
   "outputs": [],
   "source": [
    "feat = ['labels', 'max_y1_ndvi', 'min_y1_ndvi',\n",
    "       'mean_y1_ndvi', 'var_y1_ndvi', 'max_y2_ndvi', 'min_y2_ndvi',\n",
    "       'mean_y2_ndvi', 'var_y2_ndvi', 'aet_max', 'aet_min', 'aet_var',\n",
    "       'aet_mean', 'def_max', 'def_min', 'def_var', 'def_mean', 'pet_max',\n",
    "       'pet_min', 'pet_var', 'pet_mean', 'ppt_max', 'ppt_min', 'ppt_var',\n",
    "       'ppt_mean', 'srad_max', 'srad_min', 'srad_var', 'srad_mean', 'tmax_max',\n",
    "       'tmax_min', 'tmax_var', 'tmax_mean', 'tmin_max', 'tmin_min', 'tmin_var',\n",
    "       'tmin_mean', 'vap_max', 'vap_min', 'vap_var', 'vap_mean', 'vpd_max',\n",
    "       'vpd_min', 'vpd_var', 'vpd_mean']\n",
    "features = feat[1:]"
   ]
  },
  {
   "cell_type": "code",
   "execution_count": 33,
   "metadata": {},
   "outputs": [],
   "source": [
    "df_4 = df_05[feat] - df_00[feat]\n",
    "df_3 = df_00[feat] - df_95[feat]\n",
    "df_2 = df_95[feat] - df_90[feat]\n",
    "df_1 = df_90[feat] - df_85[feat]\n",
    "df_1['time'] = 1\n",
    "df_2['time'] = 2\n",
    "df_3['time'] = 3\n",
    "df_4['time'] = 4"
   ]
  },
  {
   "cell_type": "code",
   "execution_count": 34,
   "metadata": {},
   "outputs": [],
   "source": [
    "combined_df = pd.concat([df_1, df_2, df_3, df_4])"
   ]
  },
  {
   "cell_type": "code",
   "execution_count": 35,
   "metadata": {},
   "outputs": [
    {
     "data": {
      "text/plain": [
       "20.48073398220863"
      ]
     },
     "execution_count": 35,
     "metadata": {},
     "output_type": "execute_result"
    }
   ],
   "source": [
    "combined_df['labels'].mean()"
   ]
  },
  {
   "cell_type": "code",
   "execution_count": 40,
   "metadata": {},
   "outputs": [
    {
     "data": {
      "text/plain": [
       "389414"
      ]
     },
     "execution_count": 40,
     "metadata": {},
     "output_type": "execute_result"
    }
   ],
   "source": [
    "combined_df['labels'][combined_df['labels']>20].count()"
   ]
  },
  {
   "cell_type": "code",
   "execution_count": 41,
   "metadata": {},
   "outputs": [
    {
     "data": {
      "text/plain": [
       "1771948"
      ]
     },
     "execution_count": 41,
     "metadata": {},
     "output_type": "execute_result"
    }
   ],
   "source": [
    "combined_df['labels'][combined_df['labels']==0].count()"
   ]
  },
  {
   "cell_type": "code",
   "execution_count": 39,
   "metadata": {},
   "outputs": [
    {
     "data": {
      "text/plain": [
       "225213"
      ]
     },
     "execution_count": 39,
     "metadata": {},
     "output_type": "execute_result"
    }
   ],
   "source": [
    "combined_df['labels'][combined_df['labels']<-20].count()"
   ]
  },
  {
   "cell_type": "code",
   "execution_count": 38,
   "metadata": {},
   "outputs": [
    {
     "data": {
      "text/plain": [
       "2808552"
      ]
     },
     "execution_count": 38,
     "metadata": {},
     "output_type": "execute_result"
    }
   ],
   "source": [
    "combined_df['labels'].count()"
   ]
  },
  {
   "cell_type": "code",
   "execution_count": null,
   "metadata": {},
   "outputs": [],
   "source": [
    "combined_df['labels'][combined_df['labels']]"
   ]
  },
  {
   "cell_type": "code",
   "execution_count": 68,
   "metadata": {},
   "outputs": [],
   "source": [
    "def apply_label(pixel):\n",
    "    if pixel <-10 :\n",
    "        return  -1\n",
    "    elif pixel > 10:\n",
    "        return 1\n",
    "    else:\n",
    "        return 0"
   ]
  },
  {
   "cell_type": "code",
   "execution_count": 69,
   "metadata": {},
   "outputs": [],
   "source": [
    "combined_df['irrigated'] = combined_df['labels'].map(apply_label)"
   ]
  },
  {
   "cell_type": "code",
   "execution_count": 79,
   "metadata": {},
   "outputs": [],
   "source": [
    "test, train = combined_df[combined_df['time'] == 4], combined_df[combined_df['time'] != 4]\n",
    "train_irr = train[train['irrigated'] !=0]\n",
    "train_non = train[train['irrigated'] == 0]\n",
    "train_non = train_non.sample(frac=0.05, replace=False, random_state=1)\n",
    "train = pd.concat([train_irr, train_non])\n",
    "\n",
    "test_labels, train_labels = test['irrigated'], train['irrigated']\n",
    "test_data, train_data = test[features], train[features]"
   ]
  },
  {
   "cell_type": "code",
   "execution_count": 74,
   "metadata": {},
   "outputs": [
    {
     "data": {
      "text/plain": [
       " 0    471746\n",
       " 1    361776\n",
       "-1    172153\n",
       "Name: irrigated, dtype: int64"
      ]
     },
     "execution_count": 74,
     "metadata": {},
     "output_type": "execute_result"
    }
   ],
   "source": [
    "train_labels.value_counts()"
   ]
  },
  {
   "cell_type": "code",
   "execution_count": 71,
   "metadata": {
    "scrolled": true
   },
   "outputs": [
    {
     "data": {
      "text/plain": [
       "0         0\n",
       "1         0\n",
       "2         0\n",
       "3         0\n",
       "4         0\n",
       "         ..\n",
       "702133    0\n",
       "702134    0\n",
       "702135    0\n",
       "702136    0\n",
       "702137    0\n",
       "Name: irrigated, Length: 2808552, dtype: int64"
      ]
     },
     "execution_count": 71,
     "metadata": {},
     "output_type": "execute_result"
    }
   ],
   "source": [
    "combined_df['irrigated']"
   ]
  },
  {
   "cell_type": "code",
   "execution_count": null,
   "metadata": {},
   "outputs": [],
   "source": [
    "trai"
   ]
  },
  {
   "cell_type": "code",
   "execution_count": 80,
   "metadata": {},
   "outputs": [
    {
     "name": "stdout",
     "output_type": "stream",
     "text": [
      "CPU times: user 12min 55s, sys: 171 ms, total: 12min 55s\n",
      "Wall time: 28.8 s\n"
     ]
    },
    {
     "data": {
      "text/plain": [
       "RandomForestClassifier(bootstrap=True, ccp_alpha=0.0, class_weight=None,\n",
       "                       criterion='gini', max_depth=None, max_features='auto',\n",
       "                       max_leaf_nodes=None, max_samples=None,\n",
       "                       min_impurity_decrease=0.0, min_impurity_split=None,\n",
       "                       min_samples_leaf=2, min_samples_split=2,\n",
       "                       min_weight_fraction_leaf=0.0, n_estimators=100,\n",
       "                       n_jobs=32, oob_score=False, random_state=None, verbose=0,\n",
       "                       warm_start=False)"
      ]
     },
     "execution_count": 80,
     "metadata": {},
     "output_type": "execute_result"
    }
   ],
   "source": [
    "clf_unb = RandomForestClassifier(n_estimators=100 , min_samples_leaf=2, n_jobs=ncores)\n",
    "%time clf_unb.fit(train_data, train_labels)"
   ]
  },
  {
   "cell_type": "code",
   "execution_count": 81,
   "metadata": {},
   "outputs": [
    {
     "name": "stdout",
     "output_type": "stream",
     "text": [
      "CPU times: user 14.7 s, sys: 236 ms, total: 14.9 s\n",
      "Wall time: 862 ms\n",
      "acc 0.5107927501431343\n",
      "kappa 0.020124390003934844\n",
      "              precision    recall  f1-score   support\n",
      "\n",
      "          -1       0.15      0.02      0.04     87646\n",
      "           0       0.72      0.62      0.67    504623\n",
      "           1       0.18      0.41      0.25    109869\n",
      "\n",
      "    accuracy                           0.51    702138\n",
      "   macro avg       0.35      0.35      0.32    702138\n",
      "weighted avg       0.57      0.51      0.52    702138\n",
      "\n"
     ]
    }
   ],
   "source": [
    "%time predictions= clf_unb.predict(test_data)\n",
    "print(\"acc\",accuracy_score(test_labels, predictions))\n",
    "print(\"kappa\", cohen_kappa_score(test_labels, predictions))\n",
    "print(classification_report(test_labels, predictions))"
   ]
  },
  {
   "cell_type": "code",
   "execution_count": null,
   "metadata": {},
   "outputs": [],
   "source": [
    "combined_df['labels'].max()"
   ]
  },
  {
   "cell_type": "code",
   "execution_count": null,
   "metadata": {},
   "outputs": [],
   "source": [
    "combined_df['irrigated'] = combined_df['labels'].map(apply_label)"
   ]
  },
  {
   "cell_type": "code",
   "execution_count": null,
   "metadata": {},
   "outputs": [],
   "source": [
    "combined_df['irrigated'].shape"
   ]
  },
  {
   "cell_type": "code",
   "execution_count": null,
   "metadata": {},
   "outputs": [],
   "source": [
    "combined_df['irrigated'].value_counts()"
   ]
  },
  {
   "cell_type": "code",
   "execution_count": null,
   "metadata": {},
   "outputs": [],
   "source": [
    "# combined_df['irrigated'] = [1 if x > 100 else 0 for x in combined_df['labels']]"
   ]
  },
  {
   "cell_type": "code",
   "execution_count": null,
   "metadata": {},
   "outputs": [],
   "source": [
    "combined_df[combined_df['irrigated'] == 1].shape"
   ]
  },
  {
   "cell_type": "code",
   "execution_count": null,
   "metadata": {},
   "outputs": [],
   "source": [
    "data = combined_df[features]\n",
    "labels = combined_df['labels']\n",
    "ncores = os.cpu_count()\n",
    "train_data_unb, test_data_unb, train_labels_unb, test_labels_unb = train_test_split(data, labels, test_size=0.7)\n",
    "clf_unb = RandomForestRegressor(n_estimators=20, max_depth=20, min_samples_leaf = 50)\n"
   ]
  },
  {
   "cell_type": "code",
   "execution_count": null,
   "metadata": {},
   "outputs": [],
   "source": [
    "from sklearn.linear_model import LogisticRegression"
   ]
  },
  {
   "cell_type": "code",
   "execution_count": null,
   "metadata": {},
   "outputs": [],
   "source": [
    "%time clf_unb.fit(train_data_unb, train_labels_unb)"
   ]
  },
  {
   "cell_type": "code",
   "execution_count": null,
   "metadata": {},
   "outputs": [],
   "source": [
    "%time predictions_unb = clf_unb.predict(test_data_unb)\n",
    "from sklearn.metrics import mean_squared_error\n",
    "\n",
    "print(\"mse\",mean_squared_error(test_labels_unb, predictions_unb)))"
   ]
  },
  {
   "cell_type": "code",
   "execution_count": null,
   "metadata": {},
   "outputs": [],
   "source": [
    "data = combined_df[features]\n",
    "labels = combined_df['irrigated']\n",
    "\n",
    "train_data_unb, test_data_unb, train_labels_unb, test_labels_unb = train_test_split(data, labels, test_size=0.2)\n",
    "clf_unb = RandomForestClassifier(n_estimators=100 , min_samples_leaf=10, max_depth=50, n_jobs=ncores)\n",
    "%time clf_unb.fit(train_data_unb, train_labels_unb)\n",
    "# Train the Classifier to take the training features and learn how they relate\n",
    "# to the training y (the species)\n"
   ]
  },
  {
   "cell_type": "code",
   "execution_count": null,
   "metadata": {
    "scrolled": true
   },
   "outputs": [],
   "source": [
    "%time predictions_unb = clf_unb.predict(test_data_unb)\n",
    "print(\"acc\",accuracy_score(test_labels_unb, predictions_unb))\n",
    "print(\"kappa\", cohen_kappa_score(test_labels_unb, predictions_unb))\n",
    "print(classification_report(test_labels_unb, predictions_unb))"
   ]
  },
  {
   "cell_type": "code",
   "execution_count": null,
   "metadata": {
    "scrolled": true
   },
   "outputs": [],
   "source": [
    "combined_df.columns"
   ]
  },
  {
   "cell_type": "code",
   "execution_count": null,
   "metadata": {},
   "outputs": [],
   "source": [
    "test, train = combined_df[combined_df['year'] == '2005'], combined_df[combined_df['year'] != '2005']\n",
    "test_labels, train_labels = test['irrigated'], train['irrigated']\n",
    "test_data, train_data = test[features], train[features]"
   ]
  },
  {
   "cell_type": "code",
   "execution_count": null,
   "metadata": {},
   "outputs": [],
   "source": [
    "clf_unb = RandomForestClassifier(n_estimators=100 , min_samples_leaf=10, max_depth=50, n_jobs=ncores)\n",
    "%time clf_unb.fit(train_data, train_labels)"
   ]
  },
  {
   "cell_type": "code",
   "execution_count": null,
   "metadata": {},
   "outputs": [],
   "source": [
    "%time predictions = clf_unb.predict(test_data)\n",
    "print(\"acc\",accuracy_score(test_labels, predictions))\n",
    "print(\"kappa\", cohen_kappa_score(test_labels, predictions))\n",
    "print(classification_report(test_labels, predictions))"
   ]
  },
  {
   "cell_type": "code",
   "execution_count": null,
   "metadata": {},
   "outputs": [],
   "source": [
    "train_irr = train[train['irrigated'] !=0]\n",
    "train_non = train[train['irrigated'] == 0]\n",
    "train_non = train_non.sample(frac=0.5, replace=False, random_state=1)\n",
    "train = pd.concat([train_irr, train_non])\n",
    "\n",
    "test_labels, train_labels = test['irrigated'], train['irrigated']\n",
    "test_data, train_data = test[features], train[features]\n",
    "\n",
    "clf_unb = ExtraTreesClassifier(n_estimators=500, min_samples_leaf=2, max_depth=50, n_jobs=ncores)\n",
    "\n",
    "# Train the Classifier to take the training features and learn how they relate\n",
    "# to the training y (the species)\n",
    "%time clf_unb.fit(train_data, train_labels)"
   ]
  },
  {
   "cell_type": "code",
   "execution_count": null,
   "metadata": {},
   "outputs": [],
   "source": [
    "%time predictions= clf_unb.predict(test_data)\n",
    "print(\"acc\",accuracy_score(test_labels, predictions))\n",
    "print(\"kappa\", cohen_kappa_score(test_labels, predictions))\n",
    "print(classification_report(test_labels, predictions))"
   ]
  },
  {
   "cell_type": "code",
   "execution_count": null,
   "metadata": {},
   "outputs": [],
   "source": [
    "test, train = combined_df[combined_df['year'] == '2005'], combined_df[combined_df['year'] != '2005']\n",
    "train_irr = train[train['irrigated'] == 1]\n",
    "train_non = train[train['irrigated'] == 0]\n",
    "train_non = train_non.sample(frac=0.5, replace=False, random_state=1)\n",
    "train = pd.concat([train_irr, train_non])\n",
    "test_labels, train_labels = test['irrigated'], train['irrigated']\n",
    "test_data, train_data = test[features], train[features]"
   ]
  },
  {
   "cell_type": "code",
   "execution_count": null,
   "metadata": {},
   "outputs": [],
   "source": [
    "clf_unb = ExtraTreesClassifier(n_estimators=500, min_samples_leaf=2, max_depth=50, n_jobs=ncores)\n",
    "\n",
    "# Train the Classifier to take the training features and learn how they relate\n",
    "# to the training y (the species)\n",
    "%time clf_unb.fit(train_data, train_labels)\n",
    "%time predictions= clf_unb.predict(test_data)"
   ]
  },
  {
   "cell_type": "code",
   "execution_count": null,
   "metadata": {
    "scrolled": true
   },
   "outputs": [],
   "source": [
    "sample_df = combined_df.sample(n=2000000, random_state=1)"
   ]
  },
  {
   "cell_type": "code",
   "execution_count": null,
   "metadata": {},
   "outputs": [],
   "source": [
    "sample_df.shape"
   ]
  },
  {
   "cell_type": "code",
   "execution_count": null,
   "metadata": {},
   "outputs": [],
   "source": [
    "\n",
    "\n",
    "test, train = combined_df[combined_df['year'] == '2005'], combined_df[combined_df['year'] != '2005']\n",
    "\n",
    "test_labels, train_labels = test['labels'], train['labels']\n",
    "test_data, train_data = test[features], train[features]\n",
    "\n",
    "\n",
    "\n"
   ]
  },
  {
   "cell_type": "code",
   "execution_count": null,
   "metadata": {},
   "outputs": [],
   "source": [
    "clf_unb = RandomForestRegressor(n_estimators=50, max_depth=50, min_samples_leaf=2, n_jobs=ncores)\n",
    "%time clf_unb.fit(train_data, train_labels)"
   ]
  },
  {
   "cell_type": "code",
   "execution_count": null,
   "metadata": {},
   "outputs": [],
   "source": [
    "%time predictions_unb = clf_unb.predict(test_data_unb)\n",
    "\n",
    "print(\"mse\",mean_squared_error(test_labels, predictions_unb))"
   ]
  },
  {
   "cell_type": "code",
   "execution_count": null,
   "metadata": {},
   "outputs": [],
   "source": [
    "import sklearn.linear_model"
   ]
  },
  {
   "cell_type": "code",
   "execution_count": null,
   "metadata": {},
   "outputs": [],
   "source": [
    "clf_unb = LogisticRegression(penalty='l2', tol=0.0001, C=1.0, n_jobs=ncores)\n",
    "%time clf_unb.fit(train_data, train_labels)"
   ]
  },
  {
   "cell_type": "code",
   "execution_count": null,
   "metadata": {},
   "outputs": [],
   "source": [
    "lab_2000 = combined_df[combined_df['year'] == '2000']['labels']\n",
    "lab_2005 = combined_df[combined_df['year'] == '2005']['labels']"
   ]
  },
  {
   "cell_type": "code",
   "execution_count": null,
   "metadata": {},
   "outputs": [],
   "source": [
    "lab_2000"
   ]
  },
  {
   "cell_type": "code",
   "execution_count": null,
   "metadata": {},
   "outputs": [],
   "source": [
    "print(\"mse\",mean_squared_error(lab_2000, lab_2005))"
   ]
  },
  {
   "cell_type": "code",
   "execution_count": null,
   "metadata": {},
   "outputs": [],
   "source": [
    "clean_frame_df['2005_binary'] = [1 if x > 100 else 0 for x in clean_frame_df['2005']]\n",
    "clean_frame_df['2000_binary'] = [1 if x > 100 else 0 for x in clean_frame_df['2000']]\n",
    "clean_frame_df['1995_binary'] = [1 if x > 100 else 0 for x in clean_frame_df['1995']]\n",
    "clean_frame_df['1990_binary'] = [1 if x > 100 else 0 for x in clean_frame_df['1990']]\n",
    "clean_frame_df['1985_binary'] = [1 if x > 100 else 0 for x in clean_frame_df['1985']]"
   ]
  },
  {
   "cell_type": "code",
   "execution_count": null,
   "metadata": {},
   "outputs": [],
   "source": [
    "clean_frame_df['predictions'][clean_frame_df['predictions']==1].count() "
   ]
  },
  {
   "cell_type": "code",
   "execution_count": null,
   "metadata": {},
   "outputs": [],
   "source": [
    "clean_frame_df['predictions'][clean_frame_df['predictions']==1].count() "
   ]
  },
  {
   "cell_type": "code",
   "execution_count": null,
   "metadata": {
    "scrolled": true
   },
   "outputs": [],
   "source": [
    "clean_frame_df['predictions'][clean_frame_df['predictions']==1].count() "
   ]
  },
  {
   "cell_type": "code",
   "execution_count": null,
   "metadata": {},
   "outputs": [],
   "source": [
    "clean_frame_df['2005_binary'][clean_frame_df['2005_binary']==1].count() "
   ]
  },
  {
   "cell_type": "code",
   "execution_count": null,
   "metadata": {},
   "outputs": [],
   "source": [
    "clean_frame_df['2000_binary'][clean_frame_df['2000_binary']==1].count() "
   ]
  },
  {
   "cell_type": "code",
   "execution_count": null,
   "metadata": {},
   "outputs": [],
   "source": [
    "clean_frame_df['2005_binary'][clean_frame_df['2005_binary']==1].count() "
   ]
  },
  {
   "cell_type": "code",
   "execution_count": null,
   "metadata": {},
   "outputs": [],
   "source": [
    "clean_frame_df['2005_binary'][clean_frame_df['2005_binary']==1].count() "
   ]
  },
  {
   "cell_type": "code",
   "execution_count": null,
   "metadata": {},
   "outputs": [],
   "source": [
    "clean_frame_df['1990_binary'][clean_frame_df['1990_binary']==1].count() "
   ]
  },
  {
   "cell_type": "code",
   "execution_count": null,
   "metadata": {},
   "outputs": [],
   "source": [
    "clean_frame_df['1985_binary'][clean_frame_df['1985_binary']==1].count() "
   ]
  },
  {
   "cell_type": "code",
   "execution_count": null,
   "metadata": {},
   "outputs": [],
   "source": [
    "clean_frame_df['1990_binary'][clean_frame_df['1990_binary']==1].count() "
   ]
  },
  {
   "cell_type": "code",
   "execution_count": null,
   "metadata": {},
   "outputs": [],
   "source": [
    "clean_frame_df['2000_binary'][clean_frame_df['2000_binary']==1].count() "
   ]
  },
  {
   "cell_type": "code",
   "execution_count": null,
   "metadata": {},
   "outputs": [],
   "source": [
    "df_import = pd.DataFrame()\n",
    "df_import['feature'] = features\n",
    "df_import['importances'] = clf_unb.feature_importances_\n",
    "df_import=df_import.sort_values('importances', ascending=False)\n",
    "df_import.head(n = 10)"
   ]
  }
 ],
 "metadata": {
  "kernelspec": {
   "display_name": "Python 3",
   "language": "python",
   "name": "python3"
  },
  "language_info": {
   "codemirror_mode": {
    "name": "ipython",
    "version": 3
   },
   "file_extension": ".py",
   "mimetype": "text/x-python",
   "name": "python",
   "nbconvert_exporter": "python",
   "pygments_lexer": "ipython3",
   "version": "3.7.6"
  }
 },
 "nbformat": 4,
 "nbformat_minor": 2
}
