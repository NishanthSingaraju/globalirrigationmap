{
 "cells": [
  {
   "cell_type": "code",
   "execution_count": 1,
   "metadata": {},
   "outputs": [],
   "source": [
    "import os\n",
    "import rasterio\n",
    "from rasterio.enums import Resampling\n",
    "import numpy as np\n",
    "import pandas as pd\n",
    "from pyhdf.SD import SD, SDC"
   ]
  },
  {
   "cell_type": "code",
   "execution_count": 2,
   "metadata": {},
   "outputs": [
    {
     "name": "stdout",
     "output_type": "stream",
     "text": [
      "/mnt/w210/ellecp/irrigated-croplands\r\n"
     ]
    }
   ],
   "source": [
    "!pwd"
   ]
  },
  {
   "cell_type": "code",
   "execution_count": 3,
   "metadata": {},
   "outputs": [],
   "source": [
    "import osgeo.gdal"
   ]
  },
  {
   "cell_type": "code",
   "execution_count": 4,
   "metadata": {},
   "outputs": [],
   "source": [
    "upscale_factor = 10\n",
    "\n",
    "with rasterio.open(\"2015.tif\") as dataset:\n",
    "\n",
    "    # resample data to target shape\n",
    "    data = dataset.read(\n",
    "        out_shape=(\n",
    "            dataset.count,\n",
    "            int(dataset.height * upscale_factor),\n",
    "            int(dataset.width * upscale_factor)\n",
    "        ),\n",
    "    )\n",
    "\n",
    "    # scale image transform\n",
    "    transform = dataset.transform * dataset.transform.scale(\n",
    "        (dataset.width / data.shape[-1]),\n",
    "        (dataset.height / data.shape[-2])\n",
    "    )"
   ]
  },
  {
   "cell_type": "code",
   "execution_count": 5,
   "metadata": {},
   "outputs": [],
   "source": [
    "upscale_factor = 10\n",
    "\n",
    "with rasterio.open(\"2010.tif\") as dataset:\n",
    "\n",
    "    # resample data to target shape\n",
    "    data = dataset.read(\n",
    "        out_shape=(\n",
    "            dataset.count,\n",
    "            int(dataset.height * upscale_factor),\n",
    "            int(dataset.width * upscale_factor)\n",
    "        ),\n",
    "    )\n",
    "\n",
    "    # scale image transform\n",
    "    transform = dataset.transform * dataset.transform.scale(\n",
    "        (dataset.width / data.shape[-1]),\n",
    "        (dataset.height / data.shape[-2])\n",
    "    )"
   ]
  },
  {
   "cell_type": "code",
   "execution_count": null,
   "metadata": {},
   "outputs": [],
   "source": [
    "test = np.array(data)"
   ]
  },
  {
   "cell_type": "code",
   "execution_count": null,
   "metadata": {},
   "outputs": [],
   "source": [
    "clean_data = np.reshape(data, (21600, 43200))"
   ]
  },
  {
   "cell_type": "code",
   "execution_count": null,
   "metadata": {},
   "outputs": [],
   "source": [
    "lidar_dem_path = 'World_e-Atlas-UCSD_SRTM30-plus_v8_Hillshading.tiff'\n",
    "with rasterio.open(lidar_dem_path) as lidar_dem:\n",
    "    im_array = lidar_dem.read()\n",
    "    lidar_dem.bounds"
   ]
  },
  {
   "cell_type": "code",
   "execution_count": null,
   "metadata": {},
   "outputs": [],
   "source": [
    "x, y = 1, 2\n",
    "t = np.array([x,y])"
   ]
  },
  {
   "cell_type": "code",
   "execution_count": null,
   "metadata": {},
   "outputs": [],
   "source": [
    "with rasterio.open('World_e-Atlas-UCSD_SRTM30-plus_v8_Hillshading.tiff') as map_layer:\n",
    "    pixels2coords = map_layer.xy(0,5) \n",
    "    \n",
    "def pixel2coord(point):\n",
    "    \"\"\"Returns global coordinates to pixel center using base-0 raster index\"\"\"\n",
    "    return(map_layer.xy(point[0],point[1]))"
   ]
  },
  {
   "cell_type": "code",
   "execution_count": null,
   "metadata": {},
   "outputs": [],
   "source": [
    "land_pixels = np.nonzero(clean_data) \n",
    "# print(np.unique(imarray))\n",
    "land_pixel_classes = clean_data[land_pixels].tolist()\n",
    "print(len(land_pixel_classes))\n",
    "\n",
    "land_indices = land_pixels \n",
    "non_zero_indices = np.array(land_indices)\n",
    "clean_frame = non_zero_indices.T\n",
    "\n",
    "# print(clean_frame.shape)\n",
    "# n = clean_frame.shape[0]\n",
    "# non_zeros = np.nonzero(test)\n",
    "\n",
    "# clean_frame_2 = clean_frame \n",
    "# clean_frame_df = pd.DataFrame({'lon': clean_frame[:,0], 'lat': clean_frame[:,1]})\n",
    "# clean_frame_df['labels'] = land_pixel_classes"
   ]
  },
  {
   "cell_type": "code",
   "execution_count": null,
   "metadata": {},
   "outputs": [],
   "source": [
    "t = np.apply_along_axis(pixel2coord, 1, clean_frame)"
   ]
  },
  {
   "cell_type": "code",
   "execution_count": null,
   "metadata": {},
   "outputs": [],
   "source": [
    "import math\n",
    "def lon_lat_to_modis(point, pixels = 1200):\n",
    "    lon = point[0]\n",
    "    lat = point[1]\n",
    "    R = 6371007.181\n",
    "    T = 1111950\n",
    "    xmin = -20015109\n",
    "    ymax = 10007555\n",
    "    w = T/pixels\n",
    "    lat_rad = math.radians(lat)\n",
    "    lon_rad = math.radians(lon)\n",
    "    x = R*lon_rad*math.cos(lat_rad)\n",
    "    y = R*lat_rad\n",
    "    H= int(abs(x -xmin)/T)\n",
    "    V = int(abs(ymax - y)/T)\n",
    "    i = ((ymax - y)%T) / w\n",
    "    j = ((x -xmin)%T)/ w\n",
    "    return np.array([H, V, i, j])"
   ]
  },
  {
   "cell_type": "code",
   "execution_count": null,
   "metadata": {},
   "outputs": [],
   "source": [
    "modis = np.apply_along_axis(lon_lat_to_modis, 1, t)"
   ]
  },
  {
   "cell_type": "code",
   "execution_count": null,
   "metadata": {},
   "outputs": [],
   "source": [
    "clean_frame_df = pd.DataFrame({'x': clean_frame[:,0], 'y': clean_frame[:,1], 'lon' : t[:,0], 'lat': t[:,1],'H': modis[:,0], 'V': modis[:,1], 'i' : modis[:,2], 'j': modis[:,3] })\n",
    "clean_frame_df.H = clean_frame_df.H.astype(int)\n",
    "clean_frame_df.V = clean_frame_df.V.astype(int)\n",
    "clean_frame_df.i = clean_frame_df.i.astype(int)\n",
    "clean_frame_df.j = clean_frame_df.j.astype(int)"
   ]
  },
  {
   "cell_type": "code",
   "execution_count": null,
   "metadata": {},
   "outputs": [],
   "source": [
    "example_frame = clean_frame_df[['i','j']][(clean_frame_df['H']== 8) &  (clean_frame_df['V']== 6)]"
   ]
  },
  {
   "cell_type": "code",
   "execution_count": null,
   "metadata": {},
   "outputs": [],
   "source": [
    "pic_gen = list(example_frame.values)"
   ]
  },
  {
   "cell_type": "code",
   "execution_count": null,
   "metadata": {},
   "outputs": [],
   "source": [
    "emtpy_im = np.zeros((1200,1200))"
   ]
  },
  {
   "cell_type": "code",
   "execution_count": null,
   "metadata": {},
   "outputs": [],
   "source": [
    "for i in pic_gen:\n",
    "    emtpy_im[i[0],i[1]]=1"
   ]
  },
  {
   "cell_type": "code",
   "execution_count": null,
   "metadata": {},
   "outputs": [],
   "source": [
    "from matplotlib import pyplot as plt\n",
    "%matplotlib inline \n",
    "\n",
    "plt.imshow(emtpy_im, interpolation='nearest')\n",
    "plt.show()"
   ]
  },
  {
   "cell_type": "code",
   "execution_count": null,
   "metadata": {},
   "outputs": [],
   "source": [
    "unique_values = clean_frame_df.groupby(['H', 'V']).size().reset_index()\n",
    "\n",
    "unique_values_2 = clean_frame_df.groupby(['H', 'V']).size().reset_index()\n",
    "unique_values = unique_values[['H', 'V']]\n",
    "rel_HV_list = list(unique_values.values)\n",
    "for i in range(len(rel_HV_list)):\n",
    "    rel_HV_list[i] = [rel_HV_list[i][0], rel_HV_list[i][1]]\n",
    "print(unique_values_2)"
   ]
  },
  {
   "cell_type": "code",
   "execution_count": null,
   "metadata": {},
   "outputs": [],
   "source": [
    "print(unique_values_2.columns)"
   ]
  },
  {
   "cell_type": "code",
   "execution_count": null,
   "metadata": {},
   "outputs": [],
   "source": [
    "unique_values_2[unique_values_2[0]<300000].sort_values(by=[0], ascending = False)"
   ]
  },
  {
   "cell_type": "code",
   "execution_count": null,
   "metadata": {},
   "outputs": [],
   "source": [
    "df_list = []\n",
    "for i in rel_HV_list:\n",
    "    test_df = clean_frame_df[(clean_frame_df['H'] == i[0]) & (clean_frame_df['V'] == i[1])][['x', 'y', 'H', 'V', 'i', 'j']]\n",
    "    df_list.append(test_df)"
   ]
  },
  {
   "cell_type": "code",
   "execution_count": null,
   "metadata": {
    "scrolled": true
   },
   "outputs": [],
   "source": [
    "len(df_list)\n",
    "df_list[10].shape"
   ]
  },
  {
   "cell_type": "code",
   "execution_count": null,
   "metadata": {},
   "outputs": [],
   "source": [
    "# months = ['2014.01.01',  \n",
    "#            '2014.02.01', \n",
    "#            '2014.03.01', \n",
    "#            '2014.04.01', \n",
    "#            '2014.05.01', \n",
    "#            '2014.06.01', \n",
    "#            '2014.07.01',  \n",
    "#            '2014.08.01', \n",
    "#            '2014.09.01', \n",
    "#            '2014.10.01', \n",
    "#            '2014.11.01',\n",
    "#            '2014.12.01',\n",
    "#            '2015.01.01',  \n",
    "#            '2015.02.01', \n",
    "#            '2015.03.01', \n",
    "#            '2015.04.01', \n",
    "#            '2015.05.01', \n",
    "#            '2015.06.01', \n",
    "#            '2015.07.01',  \n",
    "#            '2015.08.01', \n",
    "#            '2015.09.01', \n",
    "#            '2015.10.01', \n",
    "#            '2015.11.01',\n",
    "#            '2015.12.01']\n",
    "\n",
    "\n",
    "months = ['2009.01.01',  \n",
    "           '2009.02.01', \n",
    "           '2009.03.01', \n",
    "           '2009.04.01', \n",
    "           '2009.05.01', \n",
    "           '2009.06.01', \n",
    "           '2009.07.01',  \n",
    "           '2009.08.01', \n",
    "           '2009.09.01', \n",
    "           '2009.10.01', \n",
    "           '2009.11.01',\n",
    "           '2009.12.01',\n",
    "           '2010.01.01',  \n",
    "           '2010.02.01', \n",
    "           '2010.03.01', \n",
    "           '2010.04.01', \n",
    "           '2010.05.01', \n",
    "           '2010.06.01', \n",
    "           '2010.07.01',  \n",
    "           '2010.08.01', \n",
    "           '2010.09.01', \n",
    "           '2010.10.01', \n",
    "           '2010.11.01',\n",
    "           '2010.12.01']\n",
    "\n"
   ]
  },
  {
   "cell_type": "code",
   "execution_count": null,
   "metadata": {},
   "outputs": [],
   "source": [
    "for j in range(len(df_list)):\n",
    "    H, V = rel_HV_list[j][0], rel_HV_list[j][1]\n",
    "    print(rel_HV_list[j])\n",
    "    H_V_string = 'H' + str(H) + 'V' + str(V) \n",
    "    file_loc = 'modis/' + H_V_string + '/'\n",
    "    list_i = np.array(df_list[j].i)\n",
    "    list_j = np.array(df_list[j].j)\n",
    "    indices = (list_i, list_j)\n",
    "    for i in range(len(months)):\n",
    "#         print(file_loc  + H_V_string + '_' + months[i] + '.hdf')\n",
    "        ndvi_file = SD(file_loc + H_V_string + '_' + months[i] + '.hdf', SDC.READ)\n",
    "        #ndvi\n",
    "        datasets_dic = ndvi_file.datasets()\n",
    "        sds_obj = ndvi_file.select('1 km monthly NDVI') \n",
    "        data = np.array(sds_obj.get()) # get sds data\n",
    "        df_list[j][months[i]] = data[indices]\n",
    "    st = df_list[j].iloc[:, 6:30].values\n",
    "    df_list[j]['max'] = np.amax(st, axis=1)\n",
    "    df_list[j]['min'] = np.amin(st, axis=1)\n",
    "    df_list[j]['range'] = df_list[j]['max'] - df_list[j]['min']"
   ]
  },
  {
   "cell_type": "code",
   "execution_count": 10,
   "metadata": {},
   "outputs": [],
   "source": [
    "ndvi_file = SD('modis/H8V6/H8V6_2010.06.01.hdf', SDC.READ)\n",
    "#ndvi\n",
    "datasets_dic = ndvi_file.datasets()\n",
    "sds_obj_r = ndvi_file.select('1 km monthly red reflectance') \n",
    "sds_obj_b = ndvi_file.select('1 km monthly blue reflectance')\n",
    "sds_obj_g = ndvi_file.select('1 km monthly NIR reflectance')\n",
    "\n",
    "data_r = np.array(sds_obj_r.get())/10000 # get sds data\n",
    "data_b = np.array(sds_obj_b.get())/10000\n",
    "data_g = np.array(sds_obj_g.get())/10000\n",
    "\n",
    "\n",
    "def apply_mask(pixel):\n",
    "    if pixel < 0:\n",
    "        return 1\n",
    "    else:\n",
    "        return pixel\n",
    "\n",
    "filter_function = np.vectorize(apply_mask)\n",
    "data_r = filter_function(data_r)\n",
    "data_g = filter_function(data_g)\n",
    "data_b = filter_function(data_b)"
   ]
  },
  {
   "cell_type": "code",
   "execution_count": 11,
   "metadata": {},
   "outputs": [
    {
     "data": {
      "text/plain": [
       "array([[0.125 , 0.125 , 0.1092, ..., 0.1739, 0.1761, 0.1645],\n",
       "       [0.1213, 0.1073, 0.0991, ..., 0.1805, 0.1783, 0.1659],\n",
       "       [0.1186, 0.1016, 0.0988, ..., 0.1713, 0.1635, 0.1693],\n",
       "       ...,\n",
       "       [1.    , 1.    , 1.    , ..., 1.    , 1.    , 1.    ],\n",
       "       [1.    , 1.    , 1.    , ..., 1.    , 1.    , 1.    ],\n",
       "       [1.    , 1.    , 1.    , ..., 1.    , 1.    , 1.    ]])"
      ]
     },
     "execution_count": 11,
     "metadata": {},
     "output_type": "execute_result"
    }
   ],
   "source": [
    "data_r"
   ]
  },
  {
   "cell_type": "code",
   "execution_count": 12,
   "metadata": {},
   "outputs": [],
   "source": [
    "from PIL import Image\n",
    "import numpy as np\n",
    "rgbArray = np.zeros((1200,1200,3), 'uint8')\n",
    "rgbArray[..., 0] = data_r*256\n",
    "rgbArray[..., 1] = data_g*256\n",
    "rgbArray[..., 2] = data_b*256\n",
    "img = Image.fromarray(rgbArray)\n",
    "img.save('myimg.jpeg')"
   ]
  },
  {
   "cell_type": "code",
   "execution_count": null,
   "metadata": {},
   "outputs": [],
   "source": [
    "full_list = pd.concat(df_list, axis=0)"
   ]
  },
  {
   "cell_type": "code",
   "execution_count": null,
   "metadata": {},
   "outputs": [],
   "source": [
    "full_list"
   ]
  },
  {
   "cell_type": "code",
   "execution_count": null,
   "metadata": {},
   "outputs": [],
   "source": [
    "filtered_list = full_list[(full_list['max'] > 4000) & (full_list['min'] < 4000)  &  (full_list['range'] > 2500)]"
   ]
  },
  {
   "cell_type": "code",
   "execution_count": null,
   "metadata": {},
   "outputs": [],
   "source": [
    "filtered_list.shape"
   ]
  },
  {
   "cell_type": "code",
   "execution_count": 35,
   "metadata": {
    "scrolled": true
   },
   "outputs": [
    {
     "data": {
      "text/html": [
       "<div>\n",
       "<style scoped>\n",
       "    .dataframe tbody tr th:only-of-type {\n",
       "        vertical-align: middle;\n",
       "    }\n",
       "\n",
       "    .dataframe tbody tr th {\n",
       "        vertical-align: top;\n",
       "    }\n",
       "\n",
       "    .dataframe thead th {\n",
       "        text-align: right;\n",
       "    }\n",
       "</style>\n",
       "<table border=\"1\" class=\"dataframe\">\n",
       "  <thead>\n",
       "    <tr style=\"text-align: right;\">\n",
       "      <th></th>\n",
       "      <th>x</th>\n",
       "      <th>y</th>\n",
       "      <th>H</th>\n",
       "      <th>V</th>\n",
       "      <th>i</th>\n",
       "      <th>j</th>\n",
       "      <th>2009.01.01</th>\n",
       "      <th>2009.02.01</th>\n",
       "      <th>2009.03.01</th>\n",
       "      <th>2009.04.01</th>\n",
       "      <th>...</th>\n",
       "      <th>2010.06.01</th>\n",
       "      <th>2010.07.01</th>\n",
       "      <th>2010.08.01</th>\n",
       "      <th>2010.09.01</th>\n",
       "      <th>2010.10.01</th>\n",
       "      <th>2010.11.01</th>\n",
       "      <th>2010.12.01</th>\n",
       "      <th>max</th>\n",
       "      <th>min</th>\n",
       "      <th>range</th>\n",
       "    </tr>\n",
       "  </thead>\n",
       "  <tbody>\n",
       "    <tr>\n",
       "      <th>13394300</th>\n",
       "      <td>7680</td>\n",
       "      <td>8230</td>\n",
       "      <td>7</td>\n",
       "      <td>6</td>\n",
       "      <td>480</td>\n",
       "      <td>1183</td>\n",
       "      <td>2711</td>\n",
       "      <td>2212</td>\n",
       "      <td>1884</td>\n",
       "      <td>1630</td>\n",
       "      <td>...</td>\n",
       "      <td>1544</td>\n",
       "      <td>1493</td>\n",
       "      <td>1666</td>\n",
       "      <td>1574</td>\n",
       "      <td>1704</td>\n",
       "      <td>1627</td>\n",
       "      <td>1714</td>\n",
       "      <td>4412</td>\n",
       "      <td>1493</td>\n",
       "      <td>2919</td>\n",
       "    </tr>\n",
       "    <tr>\n",
       "      <th>13394301</th>\n",
       "      <td>7680</td>\n",
       "      <td>8231</td>\n",
       "      <td>7</td>\n",
       "      <td>6</td>\n",
       "      <td>480</td>\n",
       "      <td>1184</td>\n",
       "      <td>2697</td>\n",
       "      <td>2243</td>\n",
       "      <td>1944</td>\n",
       "      <td>1677</td>\n",
       "      <td>...</td>\n",
       "      <td>1565</td>\n",
       "      <td>1540</td>\n",
       "      <td>1566</td>\n",
       "      <td>1612</td>\n",
       "      <td>1748</td>\n",
       "      <td>1694</td>\n",
       "      <td>1737</td>\n",
       "      <td>4380</td>\n",
       "      <td>1540</td>\n",
       "      <td>2840</td>\n",
       "    </tr>\n",
       "    <tr>\n",
       "      <th>13394302</th>\n",
       "      <td>7680</td>\n",
       "      <td>8232</td>\n",
       "      <td>7</td>\n",
       "      <td>6</td>\n",
       "      <td>480</td>\n",
       "      <td>1184</td>\n",
       "      <td>2697</td>\n",
       "      <td>2243</td>\n",
       "      <td>1944</td>\n",
       "      <td>1677</td>\n",
       "      <td>...</td>\n",
       "      <td>1565</td>\n",
       "      <td>1540</td>\n",
       "      <td>1566</td>\n",
       "      <td>1612</td>\n",
       "      <td>1748</td>\n",
       "      <td>1694</td>\n",
       "      <td>1737</td>\n",
       "      <td>4380</td>\n",
       "      <td>1540</td>\n",
       "      <td>2840</td>\n",
       "    </tr>\n",
       "    <tr>\n",
       "      <th>13394303</th>\n",
       "      <td>7680</td>\n",
       "      <td>8233</td>\n",
       "      <td>7</td>\n",
       "      <td>6</td>\n",
       "      <td>480</td>\n",
       "      <td>1185</td>\n",
       "      <td>2809</td>\n",
       "      <td>2286</td>\n",
       "      <td>1955</td>\n",
       "      <td>1723</td>\n",
       "      <td>...</td>\n",
       "      <td>1550</td>\n",
       "      <td>1542</td>\n",
       "      <td>1611</td>\n",
       "      <td>1601</td>\n",
       "      <td>1874</td>\n",
       "      <td>1762</td>\n",
       "      <td>1773</td>\n",
       "      <td>4236</td>\n",
       "      <td>1542</td>\n",
       "      <td>2694</td>\n",
       "    </tr>\n",
       "    <tr>\n",
       "      <th>13394304</th>\n",
       "      <td>7680</td>\n",
       "      <td>8234</td>\n",
       "      <td>7</td>\n",
       "      <td>6</td>\n",
       "      <td>480</td>\n",
       "      <td>1186</td>\n",
       "      <td>2762</td>\n",
       "      <td>2415</td>\n",
       "      <td>2024</td>\n",
       "      <td>1711</td>\n",
       "      <td>...</td>\n",
       "      <td>1632</td>\n",
       "      <td>1602</td>\n",
       "      <td>1639</td>\n",
       "      <td>1627</td>\n",
       "      <td>2085</td>\n",
       "      <td>1787</td>\n",
       "      <td>1759</td>\n",
       "      <td>4613</td>\n",
       "      <td>1602</td>\n",
       "      <td>3011</td>\n",
       "    </tr>\n",
       "    <tr>\n",
       "      <th>...</th>\n",
       "      <td>...</td>\n",
       "      <td>...</td>\n",
       "      <td>...</td>\n",
       "      <td>...</td>\n",
       "      <td>...</td>\n",
       "      <td>...</td>\n",
       "      <td>...</td>\n",
       "      <td>...</td>\n",
       "      <td>...</td>\n",
       "      <td>...</td>\n",
       "      <td>...</td>\n",
       "      <td>...</td>\n",
       "      <td>...</td>\n",
       "      <td>...</td>\n",
       "      <td>...</td>\n",
       "      <td>...</td>\n",
       "      <td>...</td>\n",
       "      <td>...</td>\n",
       "      <td>...</td>\n",
       "      <td>...</td>\n",
       "      <td>...</td>\n",
       "    </tr>\n",
       "    <tr>\n",
       "      <th>20344539</th>\n",
       "      <td>14361</td>\n",
       "      <td>39559</td>\n",
       "      <td>31</td>\n",
       "      <td>11</td>\n",
       "      <td>1161</td>\n",
       "      <td>3</td>\n",
       "      <td>1961</td>\n",
       "      <td>1997</td>\n",
       "      <td>2135</td>\n",
       "      <td>2076</td>\n",
       "      <td>...</td>\n",
       "      <td>6116</td>\n",
       "      <td>7629</td>\n",
       "      <td>7998</td>\n",
       "      <td>6860</td>\n",
       "      <td>4690</td>\n",
       "      <td>2585</td>\n",
       "      <td>3113</td>\n",
       "      <td>7998</td>\n",
       "      <td>1654</td>\n",
       "      <td>6344</td>\n",
       "    </tr>\n",
       "    <tr>\n",
       "      <th>20345407</th>\n",
       "      <td>14362</td>\n",
       "      <td>39557</td>\n",
       "      <td>31</td>\n",
       "      <td>11</td>\n",
       "      <td>1162</td>\n",
       "      <td>0</td>\n",
       "      <td>1837</td>\n",
       "      <td>2247</td>\n",
       "      <td>1773</td>\n",
       "      <td>1708</td>\n",
       "      <td>...</td>\n",
       "      <td>2409</td>\n",
       "      <td>3974</td>\n",
       "      <td>5652</td>\n",
       "      <td>5423</td>\n",
       "      <td>4449</td>\n",
       "      <td>2665</td>\n",
       "      <td>4005</td>\n",
       "      <td>7836</td>\n",
       "      <td>1358</td>\n",
       "      <td>6478</td>\n",
       "    </tr>\n",
       "    <tr>\n",
       "      <th>20345408</th>\n",
       "      <td>14362</td>\n",
       "      <td>39558</td>\n",
       "      <td>31</td>\n",
       "      <td>11</td>\n",
       "      <td>1162</td>\n",
       "      <td>1</td>\n",
       "      <td>1727</td>\n",
       "      <td>1712</td>\n",
       "      <td>1754</td>\n",
       "      <td>1723</td>\n",
       "      <td>...</td>\n",
       "      <td>3007</td>\n",
       "      <td>4117</td>\n",
       "      <td>5916</td>\n",
       "      <td>4354</td>\n",
       "      <td>4221</td>\n",
       "      <td>2274</td>\n",
       "      <td>5156</td>\n",
       "      <td>7949</td>\n",
       "      <td>1399</td>\n",
       "      <td>6550</td>\n",
       "    </tr>\n",
       "    <tr>\n",
       "      <th>20345409</th>\n",
       "      <td>14362</td>\n",
       "      <td>39559</td>\n",
       "      <td>31</td>\n",
       "      <td>11</td>\n",
       "      <td>1162</td>\n",
       "      <td>2</td>\n",
       "      <td>1731</td>\n",
       "      <td>1699</td>\n",
       "      <td>1777</td>\n",
       "      <td>1775</td>\n",
       "      <td>...</td>\n",
       "      <td>6347</td>\n",
       "      <td>7220</td>\n",
       "      <td>8004</td>\n",
       "      <td>6982</td>\n",
       "      <td>4240</td>\n",
       "      <td>2265</td>\n",
       "      <td>2444</td>\n",
       "      <td>8729</td>\n",
       "      <td>1506</td>\n",
       "      <td>7223</td>\n",
       "    </tr>\n",
       "    <tr>\n",
       "      <th>20346279</th>\n",
       "      <td>14363</td>\n",
       "      <td>39559</td>\n",
       "      <td>31</td>\n",
       "      <td>11</td>\n",
       "      <td>1163</td>\n",
       "      <td>0</td>\n",
       "      <td>1686</td>\n",
       "      <td>1907</td>\n",
       "      <td>1919</td>\n",
       "      <td>1680</td>\n",
       "      <td>...</td>\n",
       "      <td>4100</td>\n",
       "      <td>6748</td>\n",
       "      <td>6522</td>\n",
       "      <td>5865</td>\n",
       "      <td>4401</td>\n",
       "      <td>2278</td>\n",
       "      <td>3527</td>\n",
       "      <td>8227</td>\n",
       "      <td>1344</td>\n",
       "      <td>6883</td>\n",
       "    </tr>\n",
       "  </tbody>\n",
       "</table>\n",
       "<p>13809317 rows × 33 columns</p>\n",
       "</div>"
      ],
      "text/plain": [
       "              x      y   H   V     i     j  2009.01.01  2009.02.01  \\\n",
       "13394300   7680   8230   7   6   480  1183        2711        2212   \n",
       "13394301   7680   8231   7   6   480  1184        2697        2243   \n",
       "13394302   7680   8232   7   6   480  1184        2697        2243   \n",
       "13394303   7680   8233   7   6   480  1185        2809        2286   \n",
       "13394304   7680   8234   7   6   480  1186        2762        2415   \n",
       "...         ...    ...  ..  ..   ...   ...         ...         ...   \n",
       "20344539  14361  39559  31  11  1161     3        1961        1997   \n",
       "20345407  14362  39557  31  11  1162     0        1837        2247   \n",
       "20345408  14362  39558  31  11  1162     1        1727        1712   \n",
       "20345409  14362  39559  31  11  1162     2        1731        1699   \n",
       "20346279  14363  39559  31  11  1163     0        1686        1907   \n",
       "\n",
       "          2009.03.01  2009.04.01  ...  2010.06.01  2010.07.01  2010.08.01  \\\n",
       "13394300        1884        1630  ...        1544        1493        1666   \n",
       "13394301        1944        1677  ...        1565        1540        1566   \n",
       "13394302        1944        1677  ...        1565        1540        1566   \n",
       "13394303        1955        1723  ...        1550        1542        1611   \n",
       "13394304        2024        1711  ...        1632        1602        1639   \n",
       "...              ...         ...  ...         ...         ...         ...   \n",
       "20344539        2135        2076  ...        6116        7629        7998   \n",
       "20345407        1773        1708  ...        2409        3974        5652   \n",
       "20345408        1754        1723  ...        3007        4117        5916   \n",
       "20345409        1777        1775  ...        6347        7220        8004   \n",
       "20346279        1919        1680  ...        4100        6748        6522   \n",
       "\n",
       "          2010.09.01  2010.10.01  2010.11.01  2010.12.01   max   min  range  \n",
       "13394300        1574        1704        1627        1714  4412  1493   2919  \n",
       "13394301        1612        1748        1694        1737  4380  1540   2840  \n",
       "13394302        1612        1748        1694        1737  4380  1540   2840  \n",
       "13394303        1601        1874        1762        1773  4236  1542   2694  \n",
       "13394304        1627        2085        1787        1759  4613  1602   3011  \n",
       "...              ...         ...         ...         ...   ...   ...    ...  \n",
       "20344539        6860        4690        2585        3113  7998  1654   6344  \n",
       "20345407        5423        4449        2665        4005  7836  1358   6478  \n",
       "20345408        4354        4221        2274        5156  7949  1399   6550  \n",
       "20345409        6982        4240        2265        2444  8729  1506   7223  \n",
       "20346279        5865        4401        2278        3527  8227  1344   6883  \n",
       "\n",
       "[13809317 rows x 33 columns]"
      ]
     },
     "execution_count": 35,
     "metadata": {},
     "output_type": "execute_result"
    }
   ],
   "source": [
    "filtered_list"
   ]
  },
  {
   "cell_type": "code",
   "execution_count": 36,
   "metadata": {},
   "outputs": [
    {
     "ename": "NameError",
     "evalue": "name 'ds_example' is not defined",
     "output_type": "error",
     "traceback": [
      "\u001b[0;31m---------------------------------------------------------------------------\u001b[0m",
      "\u001b[0;31mNameError\u001b[0m                                 Traceback (most recent call last)",
      "\u001b[0;32m<ipython-input-36-fdced5441e1b>\u001b[0m in \u001b[0;36m<module>\u001b[0;34m\u001b[0m\n\u001b[0;32m----> 1\u001b[0;31m \u001b[0mds_example\u001b[0m\u001b[0;34m\u001b[0m\u001b[0;34m\u001b[0m\u001b[0m\n\u001b[0m",
      "\u001b[0;31mNameError\u001b[0m: name 'ds_example' is not defined"
     ]
    }
   ],
   "source": [
    "ds_example"
   ]
  },
  {
   "cell_type": "code",
   "execution_count": 38,
   "metadata": {},
   "outputs": [
    {
     "data": {
      "image/png": "[encoded data removed]",
      "text/plain": [
       "<Figure size 432x288 with 1 Axes>"
      ]
     },
     "metadata": {
      "needs_background": "light"
     },
     "output_type": "display_data"
    }
   ],
   "source": [
    "ds_example = filtered_list[['i','j']][(filtered_list['H'] == 8)& (filtered_list['V'] == 6) ]\n",
    "ds_example = list(ds_example.values)\n",
    "ds_frame = np.zeros((1200,1200))\n",
    "for i in ds_example:\n",
    "    ds_frame[i[0],i[1]] = 1\n",
    "\n",
    "\n",
    "plt.imshow(ds_frame, interpolation='nearest')\n",
    "plt.show()"
   ]
  },
  {
   "cell_type": "code",
   "execution_count": null,
   "metadata": {},
   "outputs": [],
   "source": [
    "ds_2010 = np.zeros((21600, 43200), dtype=np.uint8)\n",
    "x_list = list(filtered_list.x)\n",
    "y_list = list(filtered_list.y)"
   ]
  },
  {
   "cell_type": "code",
   "execution_count": null,
   "metadata": {},
   "outputs": [],
   "source": []
  },
  {
   "cell_type": "code",
   "execution_count": null,
   "metadata": {},
   "outputs": [],
   "source": [
    "for i in range(len(x_list)):\n",
    "    ds_2010[x_list[i], y_list[i]] = 1"
   ]
  },
  {
   "cell_type": "code",
   "execution_count": null,
   "metadata": {},
   "outputs": [],
   "source": [
    "np.sum(ds_2010)"
   ]
  },
  {
   "cell_type": "code",
   "execution_count": 68,
   "metadata": {},
   "outputs": [],
   "source": [
    "import rasterio as rio\n",
    "with rio.open('World_e-Atlas-UCSD_SRTM30-plus_v8_Hillshading.tiff') as src:\n",
    "    ras_data = src.read()\n",
    "    ras_meta = src.profile\n",
    "with rio.open('2010_ds.tif', 'w', **ras_meta) as dst:\n",
    "    dst.write(ds_2010, 1)"
   ]
  },
  {
   "cell_type": "code",
   "execution_count": 33,
   "metadata": {},
   "outputs": [
    {
     "data": {
      "text/plain": [
       "(26733, 33)"
      ]
     },
     "execution_count": 33,
     "metadata": {},
     "output_type": "execute_result"
    }
   ],
   "source": [
    "df_list[1][df_list[1]['max'] > 0.4].shape"
   ]
  },
  {
   "cell_type": "code",
   "execution_count": 34,
   "metadata": {},
   "outputs": [
    {
     "data": {
      "text/plain": [
       "(30944, 33)"
      ]
     },
     "execution_count": 34,
     "metadata": {},
     "output_type": "execute_result"
    }
   ],
   "source": [
    "df_list[1][df_list[1]['min'] < 0.4].shape"
   ]
  },
  {
   "cell_type": "code",
   "execution_count": 71,
   "metadata": {},
   "outputs": [
    {
     "data": {
      "text/plain": [
       "(1, 21600, 43200)"
      ]
     },
     "execution_count": 71,
     "metadata": {},
     "output_type": "execute_result"
    }
   ],
   "source": [
    "lidar_dem_path = '2015_ds.tif'\n",
    "with rasterio.open(lidar_dem_path) as lidar_dem:\n",
    "    im_array = lidar_dem.read()\n",
    "    lidar_dem.bounds\n",
    "im_array.shape"
   ]
  },
  {
   "cell_type": "code",
   "execution_count": 28,
   "metadata": {
    "scrolled": false
   },
   "outputs": [
    {
     "data": {
      "text/plain": [
       "17"
      ]
     },
     "execution_count": 28,
     "metadata": {},
     "output_type": "execute_result"
    }
   ],
   "source": [
    "import urllib \n",
    "url_base = 'https://e4ftl01.cr.usgs.gov/MOLT/MOD13A3.006/'\n",
    "\n",
    "strings = ['2009.01.01',  \n",
    "           '2009.02.01', \n",
    "           '2009.03.01', \n",
    "           '2009.04.01', \n",
    "           '2009.05.01', \n",
    "           '2009.06.01', \n",
    "           '2009.07.01',  \n",
    "           '2009.08.01', \n",
    "           '2009.09.01', \n",
    "           '2009.10.01', \n",
    "           '2009.11.01',\n",
    "           '2009.12.01',\n",
    "           '2010.01.01',  \n",
    "           '2010.02.01', \n",
    "           '2010.03.01', \n",
    "           '2010.04.01', \n",
    "           '2010.05.01',\n",
    "          ]\n",
    "\n",
    "html_list = []\n",
    "for i in strings:\n",
    "    html_list.append(url_base + i)\n",
    "\n",
    "clean_list =[]\n",
    "for i in html_list:\n",
    "    response = urllib.request.urlopen(i)\n",
    "    html = response.read()\n",
    "    all_list= str(html).split('=')\n",
    "    for j in all_list:\n",
    "#         print(j)\n",
    "        if 'hdf' in j:\n",
    "            if 'xml' not in j:\n",
    "                url = i+j[1:46]\n",
    "                v_val = int(url[76:78])\n",
    "                h_val = int(url[73:75])\n",
    "                z = [h_val,v_val]\n",
    "                if z == [13,14]:\n",
    "                    clean_list.append(i+ '/' + j[1:46])\n",
    "len(clean_list)"
   ]
  },
  {
   "cell_type": "code",
   "execution_count": null,
   "metadata": {},
   "outputs": [],
   "source": [
    "land_pixels"
   ]
  },
  {
   "cell_type": "code",
   "execution_count": null,
   "metadata": {},
   "outputs": [],
   "source": [
    "clean_list[1]"
   ]
  },
  {
   "cell_type": "code",
   "execution_count": 30,
   "metadata": {
    "scrolled": true
   },
   "outputs": [],
   "source": [
    "import requests # get the requsts library from https://github.com/requests/requests\n",
    " \n",
    "class SessionWithHeaderRedirection(requests.Session):\n",
    "    AUTH_HOST = 'urs.earthdata.nasa.gov'\n",
    "    def __init__(self, username, password):\n",
    "        super().__init__()\n",
    "        self.auth = (username, password)\n",
    " \n",
    "    def rebuild_auth(self, prepared_request, response):\n",
    "        headers = prepared_request.headers\n",
    "        url = prepared_request.url\n",
    "        if 'Authorization' in headers:\n",
    "            original_parsed = requests.utils.urlparse(response.request.url)\n",
    "            redirect_parsed = requests.utils.urlparse(url)\n",
    "            if (original_parsed.hostname != redirect_parsed.hostname) and \\\n",
    "                redirect_parsed.hostname != self.AUTH_HOST and \\\n",
    "                original_parsed.hostname != self.AUTH_HOST:\n",
    "                del headers['Authorization']\n",
    "        return\n",
    "\n",
    "username = \"ecproust@berkeley.edu\"\n",
    "password= \"Tabt5yge6!\"\n",
    " \n",
    "session = SessionWithHeaderRedirection(username, password)\n",
    "for i in clean_list:\n",
    "    url = i\n",
    "    v_val = str(int(url[77:79]))\n",
    "    h_val = str(int(url[74:76]))\n",
    "    date =  url[45:55]\n",
    "    HV_val = 'H' + h_val + 'V' + v_val\n",
    "\n",
    "    filename = 'modis/' + HV_val + '/' + HV_val + '_' + date + '.hdf'\n",
    "    response = session.get(url, stream=True)\n",
    "    try:\n",
    "        with open(filename, 'wb') as fd:\n",
    "            for chunk in response.iter_content(chunk_size=1024*1024):\n",
    "                fd.write(chunk)\n",
    "    except:\n",
    "        os.mkdir('modis/'+ HV_val)\n",
    "        print(HV_val)\n",
    "        with open(filename, 'wb') as fd:\n",
    "            for chunk in response.iter_content(chunk_size=1024*1024):\n",
    "                fd.write(chunk)"
   ]
  },
  {
   "cell_type": "code",
   "execution_count": 35,
   "metadata": {},
   "outputs": [
    {
     "data": {
      "text/plain": [
       "'h'"
      ]
     },
     "execution_count": 35,
     "metadata": {},
     "output_type": "execute_result"
    }
   ],
   "source": [
    "url[74:]"
   ]
  },
  {
   "cell_type": "code",
   "execution_count": 33,
   "metadata": {},
   "outputs": [
    {
     "data": {
      "text/plain": [
       "'03'"
      ]
     },
     "execution_count": 33,
     "metadata": {},
     "output_type": "execute_result"
    }
   ],
   "source": [
    "str(url[77:79])"
   ]
  },
  {
   "cell_type": "code",
   "execution_count": null,
   "metadata": {},
   "outputs": [],
   "source": [
    "import urllib \n",
    "url_base = 'https://e4ftl01.cr.usgs.gov/MOTA/MCD12Q2.006/'\n",
    "strings = ['2006.01.01','2007.01.01', '2008.01.01', '2009.01.01', '2010.01.01', '2011.01.01', '2012.01.01', '2013.01.01', '2014.01.01' ,'2015.01.01' ]\n",
    "\n",
    "html_list = []\n",
    "for i in strings:\n",
    "    html_list.append(url_base + i)\n",
    "\n",
    "print(html_list)\n",
    "clean_list =[]\n",
    "for i in html_list:\n",
    "    response = urllib.request.urlopen(i)\n",
    "    html = response.read()\n",
    "    all_list= str(html).split('=')\n",
    "    for j in all_list:\n",
    "#         print(j)\n",
    "        if 'hdf' in j:\n",
    "            if 'xml' not in j:\n",
    "#                 print(i+j[1:46])\n",
    "                clean_list.append(i+j[1:46])"
   ]
  },
  {
   "cell_type": "code",
   "execution_count": 101,
   "metadata": {},
   "outputs": [
    {
     "data": {
      "text/plain": [
       "73"
      ]
     },
     "execution_count": 101,
     "metadata": {},
     "output_type": "execute_result"
    }
   ],
   "source": [
    "url.index('h10')"
   ]
  },
  {
   "cell_type": "code",
   "execution_count": 102,
   "metadata": {},
   "outputs": [
    {
     "data": {
      "text/plain": [
       "76"
      ]
     },
     "execution_count": 102,
     "metadata": {},
     "output_type": "execute_result"
    }
   ],
   "source": [
    "url.index('v03')"
   ]
  },
  {
   "cell_type": "code",
   "execution_count": null,
   "metadata": {},
   "outputs": [],
   "source": [
    "\n",
    "import rasterio as rio    \n",
    "\n",
    "with rio.open('2005.tif') as src:\n",
    "    ras_data = src.read()\n",
    "    ras_meta = src.profile\n",
    "\n",
    "# make any necessary changes to raster properties, e.g.:\n",
    "ras_meta['nodata'] = -99\n",
    "\n",
    "with rio.open('2010.tif', 'w', **ras_meta) as dst:\n",
    "    dst.write(map_10, 1)"
   ]
  }
 ],
 "metadata": {
  "kernelspec": {
   "display_name": "Python 3",
   "language": "python",
   "name": "python3"
  },
  "language_info": {
   "codemirror_mode": {
    "name": "ipython",
    "version": 3
   },
   "file_extension": ".py",
   "mimetype": "text/x-python",
   "name": "python",
   "nbconvert_exporter": "python",
   "pygments_lexer": "ipython3",
   "version": "3.7.6"
  }
 },
 "nbformat": 4,
 "nbformat_minor": 4
}
